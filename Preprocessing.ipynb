{
 "cells": [
  {
   "cell_type": "code",
   "execution_count": 1,
   "metadata": {},
   "outputs": [
    {
     "name": "stderr",
     "output_type": "stream",
     "text": [
      "[nltk_data] Downloading package punkt to /home/darkness/nltk_data...\n",
      "[nltk_data]   Package punkt is already up-to-date!\n",
      "[nltk_data] Downloading package stopwords to\n",
      "[nltk_data]     /home/darkness/nltk_data...\n",
      "[nltk_data]   Package stopwords is already up-to-date!\n",
      "[nltk_data] Downloading package averaged_perceptron_tagger to\n",
      "[nltk_data]     /home/darkness/nltk_data...\n",
      "[nltk_data]   Package averaged_perceptron_tagger is already up-to-\n",
      "[nltk_data]       date!\n",
      "[nltk_data] Downloading package wordnet to /home/darkness/nltk_data...\n",
      "[nltk_data]   Package wordnet is already up-to-date!\n"
     ]
    }
   ],
   "source": [
    "import numpy as np \n",
    "import string\n",
    "import nltk\n",
    "nltk.download('punkt')\n",
    "nltk.download(\"stopwords\")\n",
    "nltk.download('averaged_perceptron_tagger')\n",
    "nltk.download('wordnet')\n",
    "from nltk.corpus import stopwords"
   ]
  },
  {
   "cell_type": "markdown",
   "metadata": {},
   "source": [
    "## Pre Processing"
   ]
  },
  {
   "cell_type": "markdown",
   "metadata": {},
   "source": [
    "### Text Retrival"
   ]
  },
  {
   "cell_type": "code",
   "execution_count": 2,
   "metadata": {},
   "outputs": [],
   "source": [
    "f = open(\"Text.txt\")\n",
    "data = f.readlines()[6:]\n",
    "f.close()"
   ]
  },
  {
   "cell_type": "markdown",
   "metadata": {},
   "source": [
    "### Tokenization"
   ]
  },
  {
   "cell_type": "code",
   "execution_count": 3,
   "metadata": {},
   "outputs": [],
   "source": [
    "# Sentence Splitting\n",
    "sentences = []\n",
    "for i in data:\n",
    "    sentences += nltk.sent_tokenize(i)\n",
    "# Word Splitting\n",
    "words_in_sentence = []\n",
    "for i in sentences:\n",
    "\n",
    "    words_in_sentence.append(nltk.word_tokenize(i))"
   ]
  },
  {
   "cell_type": "code",
   "execution_count": 4,
   "metadata": {},
   "outputs": [],
   "source": [
    "apostrophy = words_in_sentence[0][3] + '”“‘—'"
   ]
  },
  {
   "cell_type": "code",
   "execution_count": 5,
   "metadata": {},
   "outputs": [],
   "source": [
    "words_in_sentence = [[i for i in j if i not in ( string.punctuation + apostrophy ) ] for j in words_in_sentence]\n",
    "words_in_sentence = [[ i for i in j] for j in words_in_sentence]"
   ]
  },
  {
   "cell_type": "code",
   "execution_count": 6,
   "metadata": {},
   "outputs": [],
   "source": [
    "Stop_word = stopwords.words('english') + list(string.ascii_lowercase) + list(string.ascii_uppercase)\n",
    "\n",
    "words_nostop_in_sentence = []\n",
    "for i in words_in_sentence:\n",
    "    temp = [word for word in i if word not in Stop_word]\n",
    "    words_nostop_in_sentence.append(temp)"
   ]
  },
  {
   "cell_type": "markdown",
   "metadata": {},
   "source": [
    "### POS Tagging"
   ]
  },
  {
   "cell_type": "code",
   "execution_count": 7,
   "metadata": {},
   "outputs": [],
   "source": [
    "POS = []\n",
    "for i in words_nostop_in_sentence:\n",
    "    POS.append(nltk.pos_tag(i))"
   ]
  },
  {
   "cell_type": "markdown",
   "metadata": {},
   "source": [
    "### Lemmatization"
   ]
  },
  {
   "cell_type": "code",
   "execution_count": 8,
   "metadata": {},
   "outputs": [],
   "source": [
    "root_per_sentence = []\n",
    "obj = nltk.WordNetLemmatizer()\n",
    "\n",
    "for i in words_nostop_in_sentence:\n",
    "    temp  = [obj.lemmatize(j) for j in i ] \n",
    "    root_per_sentence.append(temp)"
   ]
  },
  {
   "cell_type": "markdown",
   "metadata": {},
   "source": [
    "## TF -IDF VECTOR REPRESENTATION"
   ]
  },
  {
   "cell_type": "code",
   "execution_count": 9,
   "metadata": {},
   "outputs": [],
   "source": [
    "unique_words = []\n",
    "for i in root_per_sentence:\n",
    "    for j in i :\n",
    "        if j not in unique_words:\n",
    "            unique_words.append(j)\n",
    "unique_words = sorted(unique_words)"
   ]
  },
  {
   "cell_type": "code",
   "execution_count": 20,
   "metadata": {},
   "outputs": [],
   "source": [
    "tf = []\n",
    "idf = [0 for _ in range(len(unique_words))]\n",
    "for i in range(len(root_per_sentence)):\n",
    "    temp = [0 for _ in range(len(unique_words))]\n",
    "    for j in root_per_sentence[i]:\n",
    "        temp[unique_words.index(j)] = 1 / len(root_per_sentence[i])\n",
    "        idf[unique_words.index(j)] += 1\n",
    "    tf.append(temp) \n",
    "\n",
    "tf = np.array(tf)\n",
    "idf = np.array(idf)\n",
    "idf = np.array(np.log2(len(root_per_sentence))) - np.log2(idf)\n",
    "idf = idf.reshape(1,-1)"
   ]
  },
  {
   "cell_type": "code",
   "execution_count": 11,
   "metadata": {},
   "outputs": [],
   "source": [
    "# TF - IDF Vectorization\n",
    "import pandas as pd\n",
    "Data_TF_IDF = pd.DataFrame(index=[\"sentence-\" + str(i+1) for i in range(len(root_per_sentence) )],columns=sorted(unique_words),data=tf)"
   ]
  },
  {
   "cell_type": "code",
   "execution_count": 12,
   "metadata": {},
   "outputs": [],
   "source": [
    "vector_sentence1 = (np.array(Data_TF_IDF.loc['sentence-1']).reshape(1,-1) * idf)\n",
    "vector_sentence2 = (np.array(Data_TF_IDF.loc['sentence-2']).reshape(1,-1) * idf)"
   ]
  },
  {
   "cell_type": "code",
   "execution_count": 13,
   "metadata": {},
   "outputs": [],
   "source": [
    "def mag(vct):\n",
    "    return np.sum(vct**2)"
   ]
  },
  {
   "cell_type": "code",
   "execution_count": 27,
   "metadata": {},
   "outputs": [],
   "source": [
    "Sim_tf_idf = np.dot(vector_sentence1,vector_sentence2.T) / (mag(vector_sentence1) * mag(vector_sentence2))"
   ]
  },
  {
   "cell_type": "markdown",
   "metadata": {},
   "source": [
    "### Similarity score(sent1,sent2) are 0.010788134718958942"
   ]
  },
  {
   "cell_type": "markdown",
   "metadata": {},
   "source": [
    "## Bag of Words"
   ]
  },
  {
   "cell_type": "code",
   "execution_count": 21,
   "metadata": {},
   "outputs": [],
   "source": [
    "tf_bow = []\n",
    "for i in range(len(root_per_sentence)):\n",
    "    temp = [0 for _ in range(len(unique_words))]\n",
    "    for j in root_per_sentence[i]:\n",
    "        temp[unique_words.index(j)] = 1 \n",
    "    tf_bow.append(temp) \n",
    "tf_bow = np.array(tf_bow)"
   ]
  },
  {
   "cell_type": "code",
   "execution_count": 22,
   "metadata": {},
   "outputs": [],
   "source": [
    "Data_bow = pd.DataFrame(index=[\"sentence-\" + str(i+1) for i in range(len(root_per_sentence) )],columns=sorted(unique_words),data=tf_bow)"
   ]
  },
  {
   "cell_type": "code",
   "execution_count": 28,
   "metadata": {},
   "outputs": [],
   "source": [
    "vector_sentence1_bow = (np.array(Data_bow.loc['sentence-1']).reshape(1,-1) )\n",
    "vector_sentence2_bow = (np.array(Data_bow.loc['sentence-2']).reshape(1,-1) )\n",
    "Sim_bow =  np.dot(vector_sentence1_bow,vector_sentence2_bow.T) / (mag(vector_sentence1_bow) * mag(vector_sentence2_bow))"
   ]
  },
  {
   "cell_type": "markdown",
   "metadata": {},
   "source": [
    "### Similarity score(sent1,sent2) are 0.005208333333333333"
   ]
  },
  {
   "cell_type": "markdown",
   "metadata": {},
   "source": [
    "### "
   ]
  },
  {
   "cell_type": "markdown",
   "metadata": {},
   "source": [
    "## END"
   ]
  }
 ],
 "metadata": {
  "kernelspec": {
   "display_name": "Python 3",
   "language": "python",
   "name": "python3"
  },
  "language_info": {
   "codemirror_mode": {
    "name": "ipython",
    "version": 3
   },
   "file_extension": ".py",
   "mimetype": "text/x-python",
   "name": "python",
   "nbconvert_exporter": "python",
   "pygments_lexer": "ipython3",
   "version": "3.11.6"
  }
 },
 "nbformat": 4,
 "nbformat_minor": 2
}
