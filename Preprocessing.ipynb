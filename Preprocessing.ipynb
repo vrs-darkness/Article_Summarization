{
 "cells": [
  {
   "cell_type": "code",
   "execution_count": 1,
   "metadata": {},
   "outputs": [
    {
     "name": "stderr",
     "output_type": "stream",
     "text": [
      "[nltk_data] Downloading package punkt to /home/darkness/nltk_data...\n",
      "[nltk_data]   Package punkt is already up-to-date!\n",
      "[nltk_data] Downloading package stopwords to\n",
      "[nltk_data]     /home/darkness/nltk_data...\n",
      "[nltk_data]   Package stopwords is already up-to-date!\n",
      "[nltk_data] Downloading package averaged_perceptron_tagger to\n",
      "[nltk_data]     /home/darkness/nltk_data...\n",
      "[nltk_data]   Package averaged_perceptron_tagger is already up-to-\n",
      "[nltk_data]       date!\n",
      "[nltk_data] Downloading package wordnet to /home/darkness/nltk_data...\n",
      "[nltk_data]   Package wordnet is already up-to-date!\n"
     ]
    }
   ],
   "source": [
    "import numpy as np \n",
    "import string\n",
    "import nltk\n",
    "nltk.download('punkt')\n",
    "nltk.download(\"stopwords\")\n",
    "nltk.download('averaged_perceptron_tagger')\n",
    "nltk.download('wordnet')\n",
    "from nltk.corpus import stopwords"
   ]
  },
  {
   "cell_type": "markdown",
   "metadata": {},
   "source": [
    "## Pre Processing"
   ]
  },
  {
   "cell_type": "markdown",
   "metadata": {},
   "source": [
    "### Text Retrival"
   ]
  },
  {
   "cell_type": "code",
   "execution_count": 2,
   "metadata": {},
   "outputs": [],
   "source": [
    "f = open(\"Text.txt\")\n",
    "data = f.readlines()[6:]\n",
    "f.close()"
   ]
  },
  {
   "cell_type": "code",
   "execution_count": 3,
   "metadata": {},
   "outputs": [
    {
     "data": {
      "text/plain": [
       "['Writer-director Emerald Fennell’s Saltburn is that rare film that has the internet in a chokehold while simultaneously digging up references to Shakespeare, Evelyn Waugh and Greek mythology. It’s been a while since I’ve watched a film that centers on a group of friends at Oxford and turns into a country house thriller. Set in the mid 2000s, Saltburn, follows a lonely and outcast first year student Oliver Quick (Barry Keoghan) as he is drawn into the inner circle of the wealthy and beautiful Felix Catton (Jacob Elordi). While comparisons to other novels and films abound (some directly referenced and others not) and certain scenes have simultaneously revolted and intrigued viewers, unsurprisingly, I find myself thinking about the symbolism from Greek mythology.\\n',\n",
       " 'Major spoilers for Saltburn follow.\\n',\n",
       " 'The most obvious symbolism in Saltburn is found in the figure of the Minotaur which stands menacingly in the estate’s maze and is the scene of Felix’s murder. In Greek mythology, the Minotaur was the offspring of a Minoan queen and a bull — it had a human body with a bull’s head. The monster was condemned to live in an underground labyrinth designed by the master craftsman Daedalus and was fed on human sacrifice. Eventually, a young hero named Theseus kills the Minotaur and puts an end to the human slaughter. Theseus, however, manipulates the royal family and eventually wins the crown for himself.\\n',\n",
       " 'The figure of the Minotaur cannot be neatly categorized. While a metamorphasized creature (of which mythology offers plenty of examples) has a sequential hybridity, the Minotaur which is neither fully human nor entirely beast, occupies two categories simultaneously. The Roman poet Ovid captured this by describing the Minotaur as “a half-bovine man, a half-human bull”.\\n',\n",
       " 'In modernity, the Minotaur featured quite prominently in the work of the Surrealists who saw it as a disruptive, powerful and necessary force. The image of this creature inspired Georges Bataille and André Masson to publish a journal called Minotaure in Paris. The journal was published between 1933 and 1939 and was fittingly bound in cowhide. Each issue featured a cover depicting either the Minotaur or the labyrinth by one of the following artists: Pablo Picasso, Gaston-Louis Roux, André Derain, F. Borès, Marcel Duchamp, Joan Miró, Salvador Dalí, Henri Matisse, René Magritte, Max Ernst, André Masson and Diego Rivera.\\n',\n",
       " 'Marcel Jean, a painter and critic writing in the journal described the Minotaur as “the ancient symbol and classical example of the hybrid, a being considered in the western world as a ‘monster’”. He even tried to make an etymological connection between ‘hybrid’ and the word ‘hubris’ which denotes a proud insolence to the gods. Jean concludes that Theseus represents the conscious mind and the Minotaur the unconscious. Following from this, Jean-François Revel noted that the Minotaur which is half-man and half-bull symbolizes the powers of the unconscious, in particular the realm where reason is excluded and the passions rule. In her commentary for Picasso Minotauro, Paloma Esteban Leal suggests that the Minotaur exemplifies the ethical and political convictions of the Surrealists: “unlimited freedom, the uncompromising proclamation of violence, total revolution, insubordination of the established order.”\\n',\n",
       " 'Oliver is undoubtedly likened to the Minotaur who had an insatiable hunger for human flesh. The filmmakers provide us with two hints: Oliver wears horns at his party and the Minotaur statue in the maze at Saltburn was modeled on actor Barry Keoghan’s body. Like the Minotaur, Oliver has an animal element that rules over him. He is therefore not bound by the norms of the audience. The bull, with its keen sense of smell is able to sniff out a threat and is one step ahead — quick.\\n',\n",
       " 'At the party, Felix in his angel wings encounters a brutal reality — “an uncompromising proclamation of violence” — of which he is entirely unprepared. Angelic innocence confronts the savage and darker elements of human nature. The juxtaposition between the angel (or is it Icarus?) and the Minotaur highlights the conflict between the ideal and the primal; the ethereal and the earthly; the corporeal and the intangible.\\n',\n",
       " 'But what if the symbolism of the Minotaur is actually inverted? What if it is Felix who is the monster and Oliver who is the hero — pulling a Theseus by slaying the Minotaur and seizing the throne of Saltburn for himself? The film’s final scene — which on the one hand is a nice demonstration of the lengths a millennial will go to in order to own some real estate — speaks to Oliver as a ‘hero’. His dance to Murder on the Dancefloor features many poses which are reminiscent of the statues of Greek gods — he also forms these poses entirely nude.\\n',\n",
       " 'Perhaps Oliver’s quasi-heroic turn happens when he murders Felix or perhaps it takes place during the cemetery scene. In the most disturbing moment of the film, Oliver strips and penetrates the soil atop Felix’s fresh grave. Legally speaking, the cemetery scene would most likely be categorized as a form of necrophilia. Morally, it is the most corrupted scene in Saltburn — even the Ancient Greeks shirked at the idea of disrespecting the dead. What the Greeks did sanction, however, was the notion of the link between death and spirit possession rituals. If we interpret Oliver as indeed partaking in his own symbolic rebirth or some other kind of ritual at the cemetery, we gain a clearer picture of his diseased mind. Katherine Boris Dernbach notes that Greek cult ritual and possession “blurs the line between living and dead, being and not being, self and other, corporeal body and ethereal spirit”. These lines are precisely the ones Oliver seeks not just to blur to remove entirely. His actions in the wake of Felix’s death prove this desired endpoint.\\n',\n",
       " 'If it is difficult to accept Felix as anything other than beautiful, kind and enigmatic — we must ask ourselves: what do we even know of Felix? He is only ever shown to the audience through Oliver’s eyes — so it’s a rose-tinted view to say the least. The Minotaur demanded human sacrifices and Felix has a history of bringing home pleb friends who are easily replaceable and fulfill his desire of playing saviour and being adored. They in turn sacrifice themselves for him — Oliver does not.\\n',\n",
       " 'Picasso’s interpretation of the Minotaur also lends support to this analysis. More than any of the other artists of his time, Picasso had a unique fascination with the Minotaur but he made sense of the myth in profoundly personal terms. His depictions of minotaurs bear little resemblance to Greek mythology. Instead the monstrous hybrid was to be found on the sunny Mediterranean coastline frequented by the wealthy. Picasso describes:   “That’s where the minotaurs live, along the coast. They’re the rich seigneurs of the island. They know they’re monsters and they live, like dandies and dilettantes everywhere, the kind of existence that reeks of decadence in houses filled with works of art by the most fashionable painters and sculptors. They love being surrounded by pretty women. They get the local fishermen to go out and round up girls from the neighboring islands. After the heat of the day has passed, they bring in the sculptors and their models for parties, with music and dancing, and everybody gorges himself on mussels and champagne until melancholy fades away and euphoria takes over. From there on it’s an orgy.”\\n',\n",
       " 'Picasso’s minotaurs certainly mirror the Cattons but the sharpness of Fennell is evident. Although she centers the English country house and names her film after it, Saltburn cannot be dismissed as perpetuating genteel and aristocratic privilege nor can it be reduced to a statement about class. A recent string of ‘eat-the-rich’ movies make it easy to categorize Saltburn as just another example of horrific and karmic violence befalling a group of terrible, wealthy people. That would be boring. If anything, Saltburn is a literal eat-the-rich story whereby semen and menstrual blood are consumed by the protagonist in an effort to inhabit the world and inner life of his hosts.\\n',\n",
       " 'In this instance, the stately home of the Cattons can be identified with a type of Arcadia, “a partially realized equivalent or reconstitution of a system of physical and metaphysical relationships understood or felt in some sense as prior to and authoritative over culture, and therefore ‘natural’.”\\n',\n",
       " '‘Arcadia’ first appears in the work of the Greek historian Polybius who describes a stretch of the Peloponnese where the inhabitants cultivated the art of of song as a distraction from their toil. In Virgil’s tenth Eclogue, the frustrated lover, Gallus, retreats to a paradise called Arcadia where he finds gratification which compensates for “the wild and barren emotional landscape of unsatisfied love”. William Alexander McClung describes Arcadia as “a state of wish fulfillment, where nature and psychology cooperate, an image of the ideal but also, like the objects of nostalgia, of the unattainable”.\\n',\n",
       " 'The unattainability of Saltburn and all that it stands for is found in the character Farleigh’s words to Oliver, “This place is not for you, it’s a fucking dream!” Yet more than just psychologically, the unattainable is also found topographically as Saltburn implies limits and is defined by boundaries as well as the juxtaposition and balancing of the different elements — buildings, gardens, the maze, the lake and the kinds of characters centered in each.\\n',\n",
       " 'These features are what make Saltburn a good film. The possibility of multiple interpretations are difficult to come by in modern cinema where even independent films suffer from tedious on-the-nose virtue signaling. Saltburn is by no means perfect but it captures one’s interest. While I still think Fennell’s debut film Promising Young Woman stands in a league of its own, Saltburn’s visual richness and beauty combined with Fennell’s signature nostalgia for the 2000s make it well worth the watch — even if at times it nauseates you.\\n']"
      ]
     },
     "execution_count": 3,
     "metadata": {},
     "output_type": "execute_result"
    }
   ],
   "source": [
    "data"
   ]
  },
  {
   "cell_type": "markdown",
   "metadata": {},
   "source": [
    "### Tokenization"
   ]
  },
  {
   "cell_type": "code",
   "execution_count": 4,
   "metadata": {},
   "outputs": [],
   "source": [
    "# Sentence Splitting\n",
    "sentences = []\n",
    "for i in data:\n",
    "    sentences += nltk.sent_tokenize(i)\n",
    "# Word Splitting\n",
    "words_in_sentence = []\n",
    "for i in sentences:\n",
    "\n",
    "    words_in_sentence.append(nltk.word_tokenize(i))"
   ]
  },
  {
   "cell_type": "code",
   "execution_count": 5,
   "metadata": {},
   "outputs": [
    {
     "name": "stdout",
     "output_type": "stream",
     "text": [
      "[['Writer-director', 'Emerald', 'Fennell', '’', 's', 'Saltburn', 'is', 'that', 'rare', 'film', 'that', 'has', 'the', 'internet', 'in', 'a', 'chokehold', 'while', 'simultaneously', 'digging', 'up', 'references', 'to', 'Shakespeare', ',', 'Evelyn', 'Waugh', 'and', 'Greek', 'mythology', '.'], ['It', '’', 's', 'been', 'a', 'while', 'since', 'I', '’', 've', 'watched', 'a', 'film', 'that', 'centers', 'on', 'a', 'group', 'of', 'friends', 'at', 'Oxford', 'and', 'turns', 'into', 'a', 'country', 'house', 'thriller', '.'], ['Set', 'in', 'the', 'mid', '2000s', ',', 'Saltburn', ',', 'follows', 'a', 'lonely', 'and', 'outcast', 'first', 'year', 'student', 'Oliver', 'Quick', '(', 'Barry', 'Keoghan', ')', 'as', 'he', 'is', 'drawn', 'into', 'the', 'inner', 'circle', 'of', 'the', 'wealthy', 'and', 'beautiful', 'Felix', 'Catton', '(', 'Jacob', 'Elordi', ')', '.'], ['While', 'comparisons', 'to', 'other', 'novels', 'and', 'films', 'abound', '(', 'some', 'directly', 'referenced', 'and', 'others', 'not', ')', 'and', 'certain', 'scenes', 'have', 'simultaneously', 'revolted', 'and', 'intrigued', 'viewers', ',', 'unsurprisingly', ',', 'I', 'find', 'myself', 'thinking', 'about', 'the', 'symbolism', 'from', 'Greek', 'mythology', '.'], ['Major', 'spoilers', 'for', 'Saltburn', 'follow', '.'], ['The', 'most', 'obvious', 'symbolism', 'in', 'Saltburn', 'is', 'found', 'in', 'the', 'figure', 'of', 'the', 'Minotaur', 'which', 'stands', 'menacingly', 'in', 'the', 'estate', '’', 's', 'maze', 'and', 'is', 'the', 'scene', 'of', 'Felix', '’', 's', 'murder', '.'], ['In', 'Greek', 'mythology', ',', 'the', 'Minotaur', 'was', 'the', 'offspring', 'of', 'a', 'Minoan', 'queen', 'and', 'a', 'bull', '—', 'it', 'had', 'a', 'human', 'body', 'with', 'a', 'bull', '’', 's', 'head', '.'], ['The', 'monster', 'was', 'condemned', 'to', 'live', 'in', 'an', 'underground', 'labyrinth', 'designed', 'by', 'the', 'master', 'craftsman', 'Daedalus', 'and', 'was', 'fed', 'on', 'human', 'sacrifice', '.'], ['Eventually', ',', 'a', 'young', 'hero', 'named', 'Theseus', 'kills', 'the', 'Minotaur', 'and', 'puts', 'an', 'end', 'to', 'the', 'human', 'slaughter', '.'], ['Theseus', ',', 'however', ',', 'manipulates', 'the', 'royal', 'family', 'and', 'eventually', 'wins', 'the', 'crown', 'for', 'himself', '.'], ['The', 'figure', 'of', 'the', 'Minotaur', 'can', 'not', 'be', 'neatly', 'categorized', '.'], ['While', 'a', 'metamorphasized', 'creature', '(', 'of', 'which', 'mythology', 'offers', 'plenty', 'of', 'examples', ')', 'has', 'a', 'sequential', 'hybridity', ',', 'the', 'Minotaur', 'which', 'is', 'neither', 'fully', 'human', 'nor', 'entirely', 'beast', ',', 'occupies', 'two', 'categories', 'simultaneously', '.'], ['The', 'Roman', 'poet', 'Ovid', 'captured', 'this', 'by', 'describing', 'the', 'Minotaur', 'as', '“', 'a', 'half-bovine', 'man', ',', 'a', 'half-human', 'bull', '”', '.'], ['In', 'modernity', ',', 'the', 'Minotaur', 'featured', 'quite', 'prominently', 'in', 'the', 'work', 'of', 'the', 'Surrealists', 'who', 'saw', 'it', 'as', 'a', 'disruptive', ',', 'powerful', 'and', 'necessary', 'force', '.'], ['The', 'image', 'of', 'this', 'creature', 'inspired', 'Georges', 'Bataille', 'and', 'André', 'Masson', 'to', 'publish', 'a', 'journal', 'called', 'Minotaure', 'in', 'Paris', '.'], ['The', 'journal', 'was', 'published', 'between', '1933', 'and', '1939', 'and', 'was', 'fittingly', 'bound', 'in', 'cowhide', '.'], ['Each', 'issue', 'featured', 'a', 'cover', 'depicting', 'either', 'the', 'Minotaur', 'or', 'the', 'labyrinth', 'by', 'one', 'of', 'the', 'following', 'artists', ':', 'Pablo', 'Picasso', ',', 'Gaston-Louis', 'Roux', ',', 'André', 'Derain', ',', 'F.', 'Borès', ',', 'Marcel', 'Duchamp', ',', 'Joan', 'Miró', ',', 'Salvador', 'Dalí', ',', 'Henri', 'Matisse', ',', 'René', 'Magritte', ',', 'Max', 'Ernst', ',', 'André', 'Masson', 'and', 'Diego', 'Rivera', '.'], ['Marcel', 'Jean', ',', 'a', 'painter', 'and', 'critic', 'writing', 'in', 'the', 'journal', 'described', 'the', 'Minotaur', 'as', '“', 'the', 'ancient', 'symbol', 'and', 'classical', 'example', 'of', 'the', 'hybrid', ',', 'a', 'being', 'considered', 'in', 'the', 'western', 'world', 'as', 'a', '‘', 'monster', '’', '”', '.'], ['He', 'even', 'tried', 'to', 'make', 'an', 'etymological', 'connection', 'between', '‘', 'hybrid', '’', 'and', 'the', 'word', '‘', 'hubris', '’', 'which', 'denotes', 'a', 'proud', 'insolence', 'to', 'the', 'gods', '.'], ['Jean', 'concludes', 'that', 'Theseus', 'represents', 'the', 'conscious', 'mind', 'and', 'the', 'Minotaur', 'the', 'unconscious', '.'], ['Following', 'from', 'this', ',', 'Jean-François', 'Revel', 'noted', 'that', 'the', 'Minotaur', 'which', 'is', 'half-man', 'and', 'half-bull', 'symbolizes', 'the', 'powers', 'of', 'the', 'unconscious', ',', 'in', 'particular', 'the', 'realm', 'where', 'reason', 'is', 'excluded', 'and', 'the', 'passions', 'rule', '.'], ['In', 'her', 'commentary', 'for', 'Picasso', 'Minotauro', ',', 'Paloma', 'Esteban', 'Leal', 'suggests', 'that', 'the', 'Minotaur', 'exemplifies', 'the', 'ethical', 'and', 'political', 'convictions', 'of', 'the', 'Surrealists', ':', '“', 'unlimited', 'freedom', ',', 'the', 'uncompromising', 'proclamation', 'of', 'violence', ',', 'total', 'revolution', ',', 'insubordination', 'of', 'the', 'established', 'order', '.', '”'], ['Oliver', 'is', 'undoubtedly', 'likened', 'to', 'the', 'Minotaur', 'who', 'had', 'an', 'insatiable', 'hunger', 'for', 'human', 'flesh', '.'], ['The', 'filmmakers', 'provide', 'us', 'with', 'two', 'hints', ':', 'Oliver', 'wears', 'horns', 'at', 'his', 'party', 'and', 'the', 'Minotaur', 'statue', 'in', 'the', 'maze', 'at', 'Saltburn', 'was', 'modeled', 'on', 'actor', 'Barry', 'Keoghan', '’', 's', 'body', '.'], ['Like', 'the', 'Minotaur', ',', 'Oliver', 'has', 'an', 'animal', 'element', 'that', 'rules', 'over', 'him', '.'], ['He', 'is', 'therefore', 'not', 'bound', 'by', 'the', 'norms', 'of', 'the', 'audience', '.'], ['The', 'bull', ',', 'with', 'its', 'keen', 'sense', 'of', 'smell', 'is', 'able', 'to', 'sniff', 'out', 'a', 'threat', 'and', 'is', 'one', 'step', 'ahead', '—', 'quick', '.'], ['At', 'the', 'party', ',', 'Felix', 'in', 'his', 'angel', 'wings', 'encounters', 'a', 'brutal', 'reality', '—', '“', 'an', 'uncompromising', 'proclamation', 'of', 'violence', '”', '—', 'of', 'which', 'he', 'is', 'entirely', 'unprepared', '.'], ['Angelic', 'innocence', 'confronts', 'the', 'savage', 'and', 'darker', 'elements', 'of', 'human', 'nature', '.'], ['The', 'juxtaposition', 'between', 'the', 'angel', '(', 'or', 'is', 'it', 'Icarus', '?', ')'], ['and', 'the', 'Minotaur', 'highlights', 'the', 'conflict', 'between', 'the', 'ideal', 'and', 'the', 'primal', ';', 'the', 'ethereal', 'and', 'the', 'earthly', ';', 'the', 'corporeal', 'and', 'the', 'intangible', '.'], ['But', 'what', 'if', 'the', 'symbolism', 'of', 'the', 'Minotaur', 'is', 'actually', 'inverted', '?'], ['What', 'if', 'it', 'is', 'Felix', 'who', 'is', 'the', 'monster', 'and', 'Oliver', 'who', 'is', 'the', 'hero', '—', 'pulling', 'a', 'Theseus', 'by', 'slaying', 'the', 'Minotaur', 'and', 'seizing', 'the', 'throne', 'of', 'Saltburn', 'for', 'himself', '?'], ['The', 'film', '’', 's', 'final', 'scene', '—', 'which', 'on', 'the', 'one', 'hand', 'is', 'a', 'nice', 'demonstration', 'of', 'the', 'lengths', 'a', 'millennial', 'will', 'go', 'to', 'in', 'order', 'to', 'own', 'some', 'real', 'estate', '—', 'speaks', 'to', 'Oliver', 'as', 'a', '‘', 'hero', '’', '.'], ['His', 'dance', 'to', 'Murder', 'on', 'the', 'Dancefloor', 'features', 'many', 'poses', 'which', 'are', 'reminiscent', 'of', 'the', 'statues', 'of', 'Greek', 'gods', '—', 'he', 'also', 'forms', 'these', 'poses', 'entirely', 'nude', '.'], ['Perhaps', 'Oliver', '’', 's', 'quasi-heroic', 'turn', 'happens', 'when', 'he', 'murders', 'Felix', 'or', 'perhaps', 'it', 'takes', 'place', 'during', 'the', 'cemetery', 'scene', '.'], ['In', 'the', 'most', 'disturbing', 'moment', 'of', 'the', 'film', ',', 'Oliver', 'strips', 'and', 'penetrates', 'the', 'soil', 'atop', 'Felix', '’', 's', 'fresh', 'grave', '.'], ['Legally', 'speaking', ',', 'the', 'cemetery', 'scene', 'would', 'most', 'likely', 'be', 'categorized', 'as', 'a', 'form', 'of', 'necrophilia', '.'], ['Morally', ',', 'it', 'is', 'the', 'most', 'corrupted', 'scene', 'in', 'Saltburn', '—', 'even', 'the', 'Ancient', 'Greeks', 'shirked', 'at', 'the', 'idea', 'of', 'disrespecting', 'the', 'dead', '.'], ['What', 'the', 'Greeks', 'did', 'sanction', ',', 'however', ',', 'was', 'the', 'notion', 'of', 'the', 'link', 'between', 'death', 'and', 'spirit', 'possession', 'rituals', '.'], ['If', 'we', 'interpret', 'Oliver', 'as', 'indeed', 'partaking', 'in', 'his', 'own', 'symbolic', 'rebirth', 'or', 'some', 'other', 'kind', 'of', 'ritual', 'at', 'the', 'cemetery', ',', 'we', 'gain', 'a', 'clearer', 'picture', 'of', 'his', 'diseased', 'mind', '.'], ['Katherine', 'Boris', 'Dernbach', 'notes', 'that', 'Greek', 'cult', 'ritual', 'and', 'possession', '“', 'blurs', 'the', 'line', 'between', 'living', 'and', 'dead', ',', 'being', 'and', 'not', 'being', ',', 'self', 'and', 'other', ',', 'corporeal', 'body', 'and', 'ethereal', 'spirit', '”', '.'], ['These', 'lines', 'are', 'precisely', 'the', 'ones', 'Oliver', 'seeks', 'not', 'just', 'to', 'blur', 'to', 'remove', 'entirely', '.'], ['His', 'actions', 'in', 'the', 'wake', 'of', 'Felix', '’', 's', 'death', 'prove', 'this', 'desired', 'endpoint', '.'], ['If', 'it', 'is', 'difficult', 'to', 'accept', 'Felix', 'as', 'anything', 'other', 'than', 'beautiful', ',', 'kind', 'and', 'enigmatic', '—', 'we', 'must', 'ask', 'ourselves', ':', 'what', 'do', 'we', 'even', 'know', 'of', 'Felix', '?'], ['He', 'is', 'only', 'ever', 'shown', 'to', 'the', 'audience', 'through', 'Oliver', '’', 's', 'eyes', '—', 'so', 'it', '’', 's', 'a', 'rose-tinted', 'view', 'to', 'say', 'the', 'least', '.'], ['The', 'Minotaur', 'demanded', 'human', 'sacrifices', 'and', 'Felix', 'has', 'a', 'history', 'of', 'bringing', 'home', 'pleb', 'friends', 'who', 'are', 'easily', 'replaceable', 'and', 'fulfill', 'his', 'desire', 'of', 'playing', 'saviour', 'and', 'being', 'adored', '.'], ['They', 'in', 'turn', 'sacrifice', 'themselves', 'for', 'him', '—', 'Oliver', 'does', 'not', '.'], ['Picasso', '’', 's', 'interpretation', 'of', 'the', 'Minotaur', 'also', 'lends', 'support', 'to', 'this', 'analysis', '.'], ['More', 'than', 'any', 'of', 'the', 'other', 'artists', 'of', 'his', 'time', ',', 'Picasso', 'had', 'a', 'unique', 'fascination', 'with', 'the', 'Minotaur', 'but', 'he', 'made', 'sense', 'of', 'the', 'myth', 'in', 'profoundly', 'personal', 'terms', '.'], ['His', 'depictions', 'of', 'minotaurs', 'bear', 'little', 'resemblance', 'to', 'Greek', 'mythology', '.'], ['Instead', 'the', 'monstrous', 'hybrid', 'was', 'to', 'be', 'found', 'on', 'the', 'sunny', 'Mediterranean', 'coastline', 'frequented', 'by', 'the', 'wealthy', '.'], ['Picasso', 'describes', ':', '“', 'That', '’', 's', 'where', 'the', 'minotaurs', 'live', ',', 'along', 'the', 'coast', '.'], ['They', '’', 're', 'the', 'rich', 'seigneurs', 'of', 'the', 'island', '.'], ['They', 'know', 'they', '’', 're', 'monsters', 'and', 'they', 'live', ',', 'like', 'dandies', 'and', 'dilettantes', 'everywhere', ',', 'the', 'kind', 'of', 'existence', 'that', 'reeks', 'of', 'decadence', 'in', 'houses', 'filled', 'with', 'works', 'of', 'art', 'by', 'the', 'most', 'fashionable', 'painters', 'and', 'sculptors', '.'], ['They', 'love', 'being', 'surrounded', 'by', 'pretty', 'women', '.'], ['They', 'get', 'the', 'local', 'fishermen', 'to', 'go', 'out', 'and', 'round', 'up', 'girls', 'from', 'the', 'neighboring', 'islands', '.'], ['After', 'the', 'heat', 'of', 'the', 'day', 'has', 'passed', ',', 'they', 'bring', 'in', 'the', 'sculptors', 'and', 'their', 'models', 'for', 'parties', ',', 'with', 'music', 'and', 'dancing', ',', 'and', 'everybody', 'gorges', 'himself', 'on', 'mussels', 'and', 'champagne', 'until', 'melancholy', 'fades', 'away', 'and', 'euphoria', 'takes', 'over', '.'], ['From', 'there', 'on', 'it', '’', 's', 'an', 'orgy', '.', '”'], ['Picasso', '’', 's', 'minotaurs', 'certainly', 'mirror', 'the', 'Cattons', 'but', 'the', 'sharpness', 'of', 'Fennell', 'is', 'evident', '.'], ['Although', 'she', 'centers', 'the', 'English', 'country', 'house', 'and', 'names', 'her', 'film', 'after', 'it', ',', 'Saltburn', 'can', 'not', 'be', 'dismissed', 'as', 'perpetuating', 'genteel', 'and', 'aristocratic', 'privilege', 'nor', 'can', 'it', 'be', 'reduced', 'to', 'a', 'statement', 'about', 'class', '.'], ['A', 'recent', 'string', 'of', '‘', 'eat-the-rich', '’', 'movies', 'make', 'it', 'easy', 'to', 'categorize', 'Saltburn', 'as', 'just', 'another', 'example', 'of', 'horrific', 'and', 'karmic', 'violence', 'befalling', 'a', 'group', 'of', 'terrible', ',', 'wealthy', 'people', '.'], ['That', 'would', 'be', 'boring', '.'], ['If', 'anything', ',', 'Saltburn', 'is', 'a', 'literal', 'eat-the-rich', 'story', 'whereby', 'semen', 'and', 'menstrual', 'blood', 'are', 'consumed', 'by', 'the', 'protagonist', 'in', 'an', 'effort', 'to', 'inhabit', 'the', 'world', 'and', 'inner', 'life', 'of', 'his', 'hosts', '.'], ['In', 'this', 'instance', ',', 'the', 'stately', 'home', 'of', 'the', 'Cattons', 'can', 'be', 'identified', 'with', 'a', 'type', 'of', 'Arcadia', ',', '“', 'a', 'partially', 'realized', 'equivalent', 'or', 'reconstitution', 'of', 'a', 'system', 'of', 'physical', 'and', 'metaphysical', 'relationships', 'understood', 'or', 'felt', 'in', 'some', 'sense', 'as', 'prior', 'to', 'and', 'authoritative', 'over', 'culture', ',', 'and', 'therefore', '‘', 'natural', '’', '.', '”'], ['‘', 'Arcadia', '’', 'first', 'appears', 'in', 'the', 'work', 'of', 'the', 'Greek', 'historian', 'Polybius', 'who', 'describes', 'a', 'stretch', 'of', 'the', 'Peloponnese', 'where', 'the', 'inhabitants', 'cultivated', 'the', 'art', 'of', 'of', 'song', 'as', 'a', 'distraction', 'from', 'their', 'toil', '.'], ['In', 'Virgil', '’', 's', 'tenth', 'Eclogue', ',', 'the', 'frustrated', 'lover', ',', 'Gallus', ',', 'retreats', 'to', 'a', 'paradise', 'called', 'Arcadia', 'where', 'he', 'finds', 'gratification', 'which', 'compensates', 'for', '“', 'the', 'wild', 'and', 'barren', 'emotional', 'landscape', 'of', 'unsatisfied', 'love', '”', '.'], ['William', 'Alexander', 'McClung', 'describes', 'Arcadia', 'as', '“', 'a', 'state', 'of', 'wish', 'fulfillment', ',', 'where', 'nature', 'and', 'psychology', 'cooperate', ',', 'an', 'image', 'of', 'the', 'ideal', 'but', 'also', ',', 'like', 'the', 'objects', 'of', 'nostalgia', ',', 'of', 'the', 'unattainable', '”', '.'], ['The', 'unattainability', 'of', 'Saltburn', 'and', 'all', 'that', 'it', 'stands', 'for', 'is', 'found', 'in', 'the', 'character', 'Farleigh', '’', 's', 'words', 'to', 'Oliver', ',', '“', 'This', 'place', 'is', 'not', 'for', 'you', ',', 'it', '’', 's', 'a', 'fucking', 'dream', '!', '”', 'Yet', 'more', 'than', 'just', 'psychologically', ',', 'the', 'unattainable', 'is', 'also', 'found', 'topographically', 'as', 'Saltburn', 'implies', 'limits', 'and', 'is', 'defined', 'by', 'boundaries', 'as', 'well', 'as', 'the', 'juxtaposition', 'and', 'balancing', 'of', 'the', 'different', 'elements', '—', 'buildings', ',', 'gardens', ',', 'the', 'maze', ',', 'the', 'lake', 'and', 'the', 'kinds', 'of', 'characters', 'centered', 'in', 'each', '.'], ['These', 'features', 'are', 'what', 'make', 'Saltburn', 'a', 'good', 'film', '.'], ['The', 'possibility', 'of', 'multiple', 'interpretations', 'are', 'difficult', 'to', 'come', 'by', 'in', 'modern', 'cinema', 'where', 'even', 'independent', 'films', 'suffer', 'from', 'tedious', 'on-the-nose', 'virtue', 'signaling', '.'], ['Saltburn', 'is', 'by', 'no', 'means', 'perfect', 'but', 'it', 'captures', 'one', '’', 's', 'interest', '.'], ['While', 'I', 'still', 'think', 'Fennell', '’', 's', 'debut', 'film', 'Promising', 'Young', 'Woman', 'stands', 'in', 'a', 'league', 'of', 'its', 'own', ',', 'Saltburn', '’', 's', 'visual', 'richness', 'and', 'beauty', 'combined', 'with', 'Fennell', '’', 's', 'signature', 'nostalgia', 'for', 'the', '2000s', 'make', 'it', 'well', 'worth', 'the', 'watch', '—', 'even', 'if', 'at', 'times', 'it', 'nauseates', 'you', '.']]\n"
     ]
    }
   ],
   "source": [
    "print(words_in_sentence)"
   ]
  },
  {
   "cell_type": "code",
   "execution_count": 6,
   "metadata": {},
   "outputs": [],
   "source": [
    "apostrophy = words_in_sentence[0][3] + '”“‘—'"
   ]
  },
  {
   "cell_type": "code",
   "execution_count": 7,
   "metadata": {},
   "outputs": [],
   "source": [
    "words_in_sentence = [[i for i in j if i not in ( string.punctuation + apostrophy ) ] for j in words_in_sentence]\n",
    "words_in_sentence = [[ i for i in j] for j in words_in_sentence]"
   ]
  },
  {
   "cell_type": "code",
   "execution_count": 8,
   "metadata": {},
   "outputs": [
    {
     "name": "stdout",
     "output_type": "stream",
     "text": [
      "[['Writer-director', 'Emerald', 'Fennell', 's', 'Saltburn', 'is', 'that', 'rare', 'film', 'that', 'has', 'the', 'internet', 'in', 'a', 'chokehold', 'while', 'simultaneously', 'digging', 'up', 'references', 'to', 'Shakespeare', 'Evelyn', 'Waugh', 'and', 'Greek', 'mythology'], ['It', 's', 'been', 'a', 'while', 'since', 'I', 've', 'watched', 'a', 'film', 'that', 'centers', 'on', 'a', 'group', 'of', 'friends', 'at', 'Oxford', 'and', 'turns', 'into', 'a', 'country', 'house', 'thriller'], ['Set', 'in', 'the', 'mid', '2000s', 'Saltburn', 'follows', 'a', 'lonely', 'and', 'outcast', 'first', 'year', 'student', 'Oliver', 'Quick', 'Barry', 'Keoghan', 'as', 'he', 'is', 'drawn', 'into', 'the', 'inner', 'circle', 'of', 'the', 'wealthy', 'and', 'beautiful', 'Felix', 'Catton', 'Jacob', 'Elordi'], ['While', 'comparisons', 'to', 'other', 'novels', 'and', 'films', 'abound', 'some', 'directly', 'referenced', 'and', 'others', 'not', 'and', 'certain', 'scenes', 'have', 'simultaneously', 'revolted', 'and', 'intrigued', 'viewers', 'unsurprisingly', 'I', 'find', 'myself', 'thinking', 'about', 'the', 'symbolism', 'from', 'Greek', 'mythology'], ['Major', 'spoilers', 'for', 'Saltburn', 'follow'], ['The', 'most', 'obvious', 'symbolism', 'in', 'Saltburn', 'is', 'found', 'in', 'the', 'figure', 'of', 'the', 'Minotaur', 'which', 'stands', 'menacingly', 'in', 'the', 'estate', 's', 'maze', 'and', 'is', 'the', 'scene', 'of', 'Felix', 's', 'murder'], ['In', 'Greek', 'mythology', 'the', 'Minotaur', 'was', 'the', 'offspring', 'of', 'a', 'Minoan', 'queen', 'and', 'a', 'bull', 'it', 'had', 'a', 'human', 'body', 'with', 'a', 'bull', 's', 'head'], ['The', 'monster', 'was', 'condemned', 'to', 'live', 'in', 'an', 'underground', 'labyrinth', 'designed', 'by', 'the', 'master', 'craftsman', 'Daedalus', 'and', 'was', 'fed', 'on', 'human', 'sacrifice'], ['Eventually', 'a', 'young', 'hero', 'named', 'Theseus', 'kills', 'the', 'Minotaur', 'and', 'puts', 'an', 'end', 'to', 'the', 'human', 'slaughter'], ['Theseus', 'however', 'manipulates', 'the', 'royal', 'family', 'and', 'eventually', 'wins', 'the', 'crown', 'for', 'himself'], ['The', 'figure', 'of', 'the', 'Minotaur', 'can', 'not', 'be', 'neatly', 'categorized'], ['While', 'a', 'metamorphasized', 'creature', 'of', 'which', 'mythology', 'offers', 'plenty', 'of', 'examples', 'has', 'a', 'sequential', 'hybridity', 'the', 'Minotaur', 'which', 'is', 'neither', 'fully', 'human', 'nor', 'entirely', 'beast', 'occupies', 'two', 'categories', 'simultaneously'], ['The', 'Roman', 'poet', 'Ovid', 'captured', 'this', 'by', 'describing', 'the', 'Minotaur', 'as', 'a', 'half-bovine', 'man', 'a', 'half-human', 'bull'], ['In', 'modernity', 'the', 'Minotaur', 'featured', 'quite', 'prominently', 'in', 'the', 'work', 'of', 'the', 'Surrealists', 'who', 'saw', 'it', 'as', 'a', 'disruptive', 'powerful', 'and', 'necessary', 'force'], ['The', 'image', 'of', 'this', 'creature', 'inspired', 'Georges', 'Bataille', 'and', 'André', 'Masson', 'to', 'publish', 'a', 'journal', 'called', 'Minotaure', 'in', 'Paris'], ['The', 'journal', 'was', 'published', 'between', '1933', 'and', '1939', 'and', 'was', 'fittingly', 'bound', 'in', 'cowhide'], ['Each', 'issue', 'featured', 'a', 'cover', 'depicting', 'either', 'the', 'Minotaur', 'or', 'the', 'labyrinth', 'by', 'one', 'of', 'the', 'following', 'artists', 'Pablo', 'Picasso', 'Gaston-Louis', 'Roux', 'André', 'Derain', 'F.', 'Borès', 'Marcel', 'Duchamp', 'Joan', 'Miró', 'Salvador', 'Dalí', 'Henri', 'Matisse', 'René', 'Magritte', 'Max', 'Ernst', 'André', 'Masson', 'and', 'Diego', 'Rivera'], ['Marcel', 'Jean', 'a', 'painter', 'and', 'critic', 'writing', 'in', 'the', 'journal', 'described', 'the', 'Minotaur', 'as', 'the', 'ancient', 'symbol', 'and', 'classical', 'example', 'of', 'the', 'hybrid', 'a', 'being', 'considered', 'in', 'the', 'western', 'world', 'as', 'a', 'monster'], ['He', 'even', 'tried', 'to', 'make', 'an', 'etymological', 'connection', 'between', 'hybrid', 'and', 'the', 'word', 'hubris', 'which', 'denotes', 'a', 'proud', 'insolence', 'to', 'the', 'gods'], ['Jean', 'concludes', 'that', 'Theseus', 'represents', 'the', 'conscious', 'mind', 'and', 'the', 'Minotaur', 'the', 'unconscious'], ['Following', 'from', 'this', 'Jean-François', 'Revel', 'noted', 'that', 'the', 'Minotaur', 'which', 'is', 'half-man', 'and', 'half-bull', 'symbolizes', 'the', 'powers', 'of', 'the', 'unconscious', 'in', 'particular', 'the', 'realm', 'where', 'reason', 'is', 'excluded', 'and', 'the', 'passions', 'rule'], ['In', 'her', 'commentary', 'for', 'Picasso', 'Minotauro', 'Paloma', 'Esteban', 'Leal', 'suggests', 'that', 'the', 'Minotaur', 'exemplifies', 'the', 'ethical', 'and', 'political', 'convictions', 'of', 'the', 'Surrealists', 'unlimited', 'freedom', 'the', 'uncompromising', 'proclamation', 'of', 'violence', 'total', 'revolution', 'insubordination', 'of', 'the', 'established', 'order'], ['Oliver', 'is', 'undoubtedly', 'likened', 'to', 'the', 'Minotaur', 'who', 'had', 'an', 'insatiable', 'hunger', 'for', 'human', 'flesh'], ['The', 'filmmakers', 'provide', 'us', 'with', 'two', 'hints', 'Oliver', 'wears', 'horns', 'at', 'his', 'party', 'and', 'the', 'Minotaur', 'statue', 'in', 'the', 'maze', 'at', 'Saltburn', 'was', 'modeled', 'on', 'actor', 'Barry', 'Keoghan', 's', 'body'], ['Like', 'the', 'Minotaur', 'Oliver', 'has', 'an', 'animal', 'element', 'that', 'rules', 'over', 'him'], ['He', 'is', 'therefore', 'not', 'bound', 'by', 'the', 'norms', 'of', 'the', 'audience'], ['The', 'bull', 'with', 'its', 'keen', 'sense', 'of', 'smell', 'is', 'able', 'to', 'sniff', 'out', 'a', 'threat', 'and', 'is', 'one', 'step', 'ahead', 'quick'], ['At', 'the', 'party', 'Felix', 'in', 'his', 'angel', 'wings', 'encounters', 'a', 'brutal', 'reality', 'an', 'uncompromising', 'proclamation', 'of', 'violence', 'of', 'which', 'he', 'is', 'entirely', 'unprepared'], ['Angelic', 'innocence', 'confronts', 'the', 'savage', 'and', 'darker', 'elements', 'of', 'human', 'nature'], ['The', 'juxtaposition', 'between', 'the', 'angel', 'or', 'is', 'it', 'Icarus'], ['and', 'the', 'Minotaur', 'highlights', 'the', 'conflict', 'between', 'the', 'ideal', 'and', 'the', 'primal', 'the', 'ethereal', 'and', 'the', 'earthly', 'the', 'corporeal', 'and', 'the', 'intangible'], ['But', 'what', 'if', 'the', 'symbolism', 'of', 'the', 'Minotaur', 'is', 'actually', 'inverted'], ['What', 'if', 'it', 'is', 'Felix', 'who', 'is', 'the', 'monster', 'and', 'Oliver', 'who', 'is', 'the', 'hero', 'pulling', 'a', 'Theseus', 'by', 'slaying', 'the', 'Minotaur', 'and', 'seizing', 'the', 'throne', 'of', 'Saltburn', 'for', 'himself'], ['The', 'film', 's', 'final', 'scene', 'which', 'on', 'the', 'one', 'hand', 'is', 'a', 'nice', 'demonstration', 'of', 'the', 'lengths', 'a', 'millennial', 'will', 'go', 'to', 'in', 'order', 'to', 'own', 'some', 'real', 'estate', 'speaks', 'to', 'Oliver', 'as', 'a', 'hero'], ['His', 'dance', 'to', 'Murder', 'on', 'the', 'Dancefloor', 'features', 'many', 'poses', 'which', 'are', 'reminiscent', 'of', 'the', 'statues', 'of', 'Greek', 'gods', 'he', 'also', 'forms', 'these', 'poses', 'entirely', 'nude'], ['Perhaps', 'Oliver', 's', 'quasi-heroic', 'turn', 'happens', 'when', 'he', 'murders', 'Felix', 'or', 'perhaps', 'it', 'takes', 'place', 'during', 'the', 'cemetery', 'scene'], ['In', 'the', 'most', 'disturbing', 'moment', 'of', 'the', 'film', 'Oliver', 'strips', 'and', 'penetrates', 'the', 'soil', 'atop', 'Felix', 's', 'fresh', 'grave'], ['Legally', 'speaking', 'the', 'cemetery', 'scene', 'would', 'most', 'likely', 'be', 'categorized', 'as', 'a', 'form', 'of', 'necrophilia'], ['Morally', 'it', 'is', 'the', 'most', 'corrupted', 'scene', 'in', 'Saltburn', 'even', 'the', 'Ancient', 'Greeks', 'shirked', 'at', 'the', 'idea', 'of', 'disrespecting', 'the', 'dead'], ['What', 'the', 'Greeks', 'did', 'sanction', 'however', 'was', 'the', 'notion', 'of', 'the', 'link', 'between', 'death', 'and', 'spirit', 'possession', 'rituals'], ['If', 'we', 'interpret', 'Oliver', 'as', 'indeed', 'partaking', 'in', 'his', 'own', 'symbolic', 'rebirth', 'or', 'some', 'other', 'kind', 'of', 'ritual', 'at', 'the', 'cemetery', 'we', 'gain', 'a', 'clearer', 'picture', 'of', 'his', 'diseased', 'mind'], ['Katherine', 'Boris', 'Dernbach', 'notes', 'that', 'Greek', 'cult', 'ritual', 'and', 'possession', 'blurs', 'the', 'line', 'between', 'living', 'and', 'dead', 'being', 'and', 'not', 'being', 'self', 'and', 'other', 'corporeal', 'body', 'and', 'ethereal', 'spirit'], ['These', 'lines', 'are', 'precisely', 'the', 'ones', 'Oliver', 'seeks', 'not', 'just', 'to', 'blur', 'to', 'remove', 'entirely'], ['His', 'actions', 'in', 'the', 'wake', 'of', 'Felix', 's', 'death', 'prove', 'this', 'desired', 'endpoint'], ['If', 'it', 'is', 'difficult', 'to', 'accept', 'Felix', 'as', 'anything', 'other', 'than', 'beautiful', 'kind', 'and', 'enigmatic', 'we', 'must', 'ask', 'ourselves', 'what', 'do', 'we', 'even', 'know', 'of', 'Felix'], ['He', 'is', 'only', 'ever', 'shown', 'to', 'the', 'audience', 'through', 'Oliver', 's', 'eyes', 'so', 'it', 's', 'a', 'rose-tinted', 'view', 'to', 'say', 'the', 'least'], ['The', 'Minotaur', 'demanded', 'human', 'sacrifices', 'and', 'Felix', 'has', 'a', 'history', 'of', 'bringing', 'home', 'pleb', 'friends', 'who', 'are', 'easily', 'replaceable', 'and', 'fulfill', 'his', 'desire', 'of', 'playing', 'saviour', 'and', 'being', 'adored'], ['They', 'in', 'turn', 'sacrifice', 'themselves', 'for', 'him', 'Oliver', 'does', 'not'], ['Picasso', 's', 'interpretation', 'of', 'the', 'Minotaur', 'also', 'lends', 'support', 'to', 'this', 'analysis'], ['More', 'than', 'any', 'of', 'the', 'other', 'artists', 'of', 'his', 'time', 'Picasso', 'had', 'a', 'unique', 'fascination', 'with', 'the', 'Minotaur', 'but', 'he', 'made', 'sense', 'of', 'the', 'myth', 'in', 'profoundly', 'personal', 'terms'], ['His', 'depictions', 'of', 'minotaurs', 'bear', 'little', 'resemblance', 'to', 'Greek', 'mythology'], ['Instead', 'the', 'monstrous', 'hybrid', 'was', 'to', 'be', 'found', 'on', 'the', 'sunny', 'Mediterranean', 'coastline', 'frequented', 'by', 'the', 'wealthy'], ['Picasso', 'describes', 'That', 's', 'where', 'the', 'minotaurs', 'live', 'along', 'the', 'coast'], ['They', 're', 'the', 'rich', 'seigneurs', 'of', 'the', 'island'], ['They', 'know', 'they', 're', 'monsters', 'and', 'they', 'live', 'like', 'dandies', 'and', 'dilettantes', 'everywhere', 'the', 'kind', 'of', 'existence', 'that', 'reeks', 'of', 'decadence', 'in', 'houses', 'filled', 'with', 'works', 'of', 'art', 'by', 'the', 'most', 'fashionable', 'painters', 'and', 'sculptors'], ['They', 'love', 'being', 'surrounded', 'by', 'pretty', 'women'], ['They', 'get', 'the', 'local', 'fishermen', 'to', 'go', 'out', 'and', 'round', 'up', 'girls', 'from', 'the', 'neighboring', 'islands'], ['After', 'the', 'heat', 'of', 'the', 'day', 'has', 'passed', 'they', 'bring', 'in', 'the', 'sculptors', 'and', 'their', 'models', 'for', 'parties', 'with', 'music', 'and', 'dancing', 'and', 'everybody', 'gorges', 'himself', 'on', 'mussels', 'and', 'champagne', 'until', 'melancholy', 'fades', 'away', 'and', 'euphoria', 'takes', 'over'], ['From', 'there', 'on', 'it', 's', 'an', 'orgy'], ['Picasso', 's', 'minotaurs', 'certainly', 'mirror', 'the', 'Cattons', 'but', 'the', 'sharpness', 'of', 'Fennell', 'is', 'evident'], ['Although', 'she', 'centers', 'the', 'English', 'country', 'house', 'and', 'names', 'her', 'film', 'after', 'it', 'Saltburn', 'can', 'not', 'be', 'dismissed', 'as', 'perpetuating', 'genteel', 'and', 'aristocratic', 'privilege', 'nor', 'can', 'it', 'be', 'reduced', 'to', 'a', 'statement', 'about', 'class'], ['A', 'recent', 'string', 'of', 'eat-the-rich', 'movies', 'make', 'it', 'easy', 'to', 'categorize', 'Saltburn', 'as', 'just', 'another', 'example', 'of', 'horrific', 'and', 'karmic', 'violence', 'befalling', 'a', 'group', 'of', 'terrible', 'wealthy', 'people'], ['That', 'would', 'be', 'boring'], ['If', 'anything', 'Saltburn', 'is', 'a', 'literal', 'eat-the-rich', 'story', 'whereby', 'semen', 'and', 'menstrual', 'blood', 'are', 'consumed', 'by', 'the', 'protagonist', 'in', 'an', 'effort', 'to', 'inhabit', 'the', 'world', 'and', 'inner', 'life', 'of', 'his', 'hosts'], ['In', 'this', 'instance', 'the', 'stately', 'home', 'of', 'the', 'Cattons', 'can', 'be', 'identified', 'with', 'a', 'type', 'of', 'Arcadia', 'a', 'partially', 'realized', 'equivalent', 'or', 'reconstitution', 'of', 'a', 'system', 'of', 'physical', 'and', 'metaphysical', 'relationships', 'understood', 'or', 'felt', 'in', 'some', 'sense', 'as', 'prior', 'to', 'and', 'authoritative', 'over', 'culture', 'and', 'therefore', 'natural'], ['Arcadia', 'first', 'appears', 'in', 'the', 'work', 'of', 'the', 'Greek', 'historian', 'Polybius', 'who', 'describes', 'a', 'stretch', 'of', 'the', 'Peloponnese', 'where', 'the', 'inhabitants', 'cultivated', 'the', 'art', 'of', 'of', 'song', 'as', 'a', 'distraction', 'from', 'their', 'toil'], ['In', 'Virgil', 's', 'tenth', 'Eclogue', 'the', 'frustrated', 'lover', 'Gallus', 'retreats', 'to', 'a', 'paradise', 'called', 'Arcadia', 'where', 'he', 'finds', 'gratification', 'which', 'compensates', 'for', 'the', 'wild', 'and', 'barren', 'emotional', 'landscape', 'of', 'unsatisfied', 'love'], ['William', 'Alexander', 'McClung', 'describes', 'Arcadia', 'as', 'a', 'state', 'of', 'wish', 'fulfillment', 'where', 'nature', 'and', 'psychology', 'cooperate', 'an', 'image', 'of', 'the', 'ideal', 'but', 'also', 'like', 'the', 'objects', 'of', 'nostalgia', 'of', 'the', 'unattainable'], ['The', 'unattainability', 'of', 'Saltburn', 'and', 'all', 'that', 'it', 'stands', 'for', 'is', 'found', 'in', 'the', 'character', 'Farleigh', 's', 'words', 'to', 'Oliver', 'This', 'place', 'is', 'not', 'for', 'you', 'it', 's', 'a', 'fucking', 'dream', 'Yet', 'more', 'than', 'just', 'psychologically', 'the', 'unattainable', 'is', 'also', 'found', 'topographically', 'as', 'Saltburn', 'implies', 'limits', 'and', 'is', 'defined', 'by', 'boundaries', 'as', 'well', 'as', 'the', 'juxtaposition', 'and', 'balancing', 'of', 'the', 'different', 'elements', 'buildings', 'gardens', 'the', 'maze', 'the', 'lake', 'and', 'the', 'kinds', 'of', 'characters', 'centered', 'in', 'each'], ['These', 'features', 'are', 'what', 'make', 'Saltburn', 'a', 'good', 'film'], ['The', 'possibility', 'of', 'multiple', 'interpretations', 'are', 'difficult', 'to', 'come', 'by', 'in', 'modern', 'cinema', 'where', 'even', 'independent', 'films', 'suffer', 'from', 'tedious', 'on-the-nose', 'virtue', 'signaling'], ['Saltburn', 'is', 'by', 'no', 'means', 'perfect', 'but', 'it', 'captures', 'one', 's', 'interest'], ['While', 'I', 'still', 'think', 'Fennell', 's', 'debut', 'film', 'Promising', 'Young', 'Woman', 'stands', 'in', 'a', 'league', 'of', 'its', 'own', 'Saltburn', 's', 'visual', 'richness', 'and', 'beauty', 'combined', 'with', 'Fennell', 's', 'signature', 'nostalgia', 'for', 'the', '2000s', 'make', 'it', 'well', 'worth', 'the', 'watch', 'even', 'if', 'at', 'times', 'it', 'nauseates', 'you']]\n"
     ]
    }
   ],
   "source": [
    "print(words_in_sentence)"
   ]
  },
  {
   "cell_type": "code",
   "execution_count": 9,
   "metadata": {},
   "outputs": [
    {
     "name": "stdout",
     "output_type": "stream",
     "text": [
      "[['Writer-director', 'Emerald', 'Fennell', 'Saltburn', 'rare', 'film', 'internet', 'chokehold', 'simultaneously', 'digging', 'references', 'Shakespeare', 'Evelyn', 'Waugh', 'Greek', 'mythology'], ['It', 'since', 'watched', 'film', 'centers', 'group', 'friends', 'Oxford', 'turns', 'country', 'house', 'thriller'], ['Set', 'mid', '2000s', 'Saltburn', 'follows', 'lonely', 'outcast', 'first', 'year', 'student', 'Oliver', 'Quick', 'Barry', 'Keoghan', 'drawn', 'inner', 'circle', 'wealthy', 'beautiful', 'Felix', 'Catton', 'Jacob', 'Elordi'], ['While', 'comparisons', 'novels', 'films', 'abound', 'directly', 'referenced', 'others', 'certain', 'scenes', 'simultaneously', 'revolted', 'intrigued', 'viewers', 'unsurprisingly', 'find', 'thinking', 'symbolism', 'Greek', 'mythology'], ['Major', 'spoilers', 'Saltburn', 'follow'], ['The', 'obvious', 'symbolism', 'Saltburn', 'found', 'figure', 'Minotaur', 'stands', 'menacingly', 'estate', 'maze', 'scene', 'Felix', 'murder'], ['In', 'Greek', 'mythology', 'Minotaur', 'offspring', 'Minoan', 'queen', 'bull', 'human', 'body', 'bull', 'head'], ['The', 'monster', 'condemned', 'live', 'underground', 'labyrinth', 'designed', 'master', 'craftsman', 'Daedalus', 'fed', 'human', 'sacrifice'], ['Eventually', 'young', 'hero', 'named', 'Theseus', 'kills', 'Minotaur', 'puts', 'end', 'human', 'slaughter'], ['Theseus', 'however', 'manipulates', 'royal', 'family', 'eventually', 'wins', 'crown'], ['The', 'figure', 'Minotaur', 'neatly', 'categorized'], ['While', 'metamorphasized', 'creature', 'mythology', 'offers', 'plenty', 'examples', 'sequential', 'hybridity', 'Minotaur', 'neither', 'fully', 'human', 'entirely', 'beast', 'occupies', 'two', 'categories', 'simultaneously'], ['The', 'Roman', 'poet', 'Ovid', 'captured', 'describing', 'Minotaur', 'half-bovine', 'man', 'half-human', 'bull'], ['In', 'modernity', 'Minotaur', 'featured', 'quite', 'prominently', 'work', 'Surrealists', 'saw', 'disruptive', 'powerful', 'necessary', 'force'], ['The', 'image', 'creature', 'inspired', 'Georges', 'Bataille', 'André', 'Masson', 'publish', 'journal', 'called', 'Minotaure', 'Paris'], ['The', 'journal', 'published', '1933', '1939', 'fittingly', 'bound', 'cowhide'], ['Each', 'issue', 'featured', 'cover', 'depicting', 'either', 'Minotaur', 'labyrinth', 'one', 'following', 'artists', 'Pablo', 'Picasso', 'Gaston-Louis', 'Roux', 'André', 'Derain', 'F.', 'Borès', 'Marcel', 'Duchamp', 'Joan', 'Miró', 'Salvador', 'Dalí', 'Henri', 'Matisse', 'René', 'Magritte', 'Max', 'Ernst', 'André', 'Masson', 'Diego', 'Rivera'], ['Marcel', 'Jean', 'painter', 'critic', 'writing', 'journal', 'described', 'Minotaur', 'ancient', 'symbol', 'classical', 'example', 'hybrid', 'considered', 'western', 'world', 'monster'], ['He', 'even', 'tried', 'make', 'etymological', 'connection', 'hybrid', 'word', 'hubris', 'denotes', 'proud', 'insolence', 'gods'], ['Jean', 'concludes', 'Theseus', 'represents', 'conscious', 'mind', 'Minotaur', 'unconscious'], ['Following', 'Jean-François', 'Revel', 'noted', 'Minotaur', 'half-man', 'half-bull', 'symbolizes', 'powers', 'unconscious', 'particular', 'realm', 'reason', 'excluded', 'passions', 'rule'], ['In', 'commentary', 'Picasso', 'Minotauro', 'Paloma', 'Esteban', 'Leal', 'suggests', 'Minotaur', 'exemplifies', 'ethical', 'political', 'convictions', 'Surrealists', 'unlimited', 'freedom', 'uncompromising', 'proclamation', 'violence', 'total', 'revolution', 'insubordination', 'established', 'order'], ['Oliver', 'undoubtedly', 'likened', 'Minotaur', 'insatiable', 'hunger', 'human', 'flesh'], ['The', 'filmmakers', 'provide', 'us', 'two', 'hints', 'Oliver', 'wears', 'horns', 'party', 'Minotaur', 'statue', 'maze', 'Saltburn', 'modeled', 'actor', 'Barry', 'Keoghan', 'body'], ['Like', 'Minotaur', 'Oliver', 'animal', 'element', 'rules'], ['He', 'therefore', 'bound', 'norms', 'audience'], ['The', 'bull', 'keen', 'sense', 'smell', 'able', 'sniff', 'threat', 'one', 'step', 'ahead', 'quick'], ['At', 'party', 'Felix', 'angel', 'wings', 'encounters', 'brutal', 'reality', 'uncompromising', 'proclamation', 'violence', 'entirely', 'unprepared'], ['Angelic', 'innocence', 'confronts', 'savage', 'darker', 'elements', 'human', 'nature'], ['The', 'juxtaposition', 'angel', 'Icarus'], ['Minotaur', 'highlights', 'conflict', 'ideal', 'primal', 'ethereal', 'earthly', 'corporeal', 'intangible'], ['But', 'symbolism', 'Minotaur', 'actually', 'inverted'], ['What', 'Felix', 'monster', 'Oliver', 'hero', 'pulling', 'Theseus', 'slaying', 'Minotaur', 'seizing', 'throne', 'Saltburn'], ['The', 'film', 'final', 'scene', 'one', 'hand', 'nice', 'demonstration', 'lengths', 'millennial', 'go', 'order', 'real', 'estate', 'speaks', 'Oliver', 'hero'], ['His', 'dance', 'Murder', 'Dancefloor', 'features', 'many', 'poses', 'reminiscent', 'statues', 'Greek', 'gods', 'also', 'forms', 'poses', 'entirely', 'nude'], ['Perhaps', 'Oliver', 'quasi-heroic', 'turn', 'happens', 'murders', 'Felix', 'perhaps', 'takes', 'place', 'cemetery', 'scene'], ['In', 'disturbing', 'moment', 'film', 'Oliver', 'strips', 'penetrates', 'soil', 'atop', 'Felix', 'fresh', 'grave'], ['Legally', 'speaking', 'cemetery', 'scene', 'would', 'likely', 'categorized', 'form', 'necrophilia'], ['Morally', 'corrupted', 'scene', 'Saltburn', 'even', 'Ancient', 'Greeks', 'shirked', 'idea', 'disrespecting', 'dead'], ['What', 'Greeks', 'sanction', 'however', 'notion', 'link', 'death', 'spirit', 'possession', 'rituals'], ['If', 'interpret', 'Oliver', 'indeed', 'partaking', 'symbolic', 'rebirth', 'kind', 'ritual', 'cemetery', 'gain', 'clearer', 'picture', 'diseased', 'mind'], ['Katherine', 'Boris', 'Dernbach', 'notes', 'Greek', 'cult', 'ritual', 'possession', 'blurs', 'line', 'living', 'dead', 'self', 'corporeal', 'body', 'ethereal', 'spirit'], ['These', 'lines', 'precisely', 'ones', 'Oliver', 'seeks', 'blur', 'remove', 'entirely'], ['His', 'actions', 'wake', 'Felix', 'death', 'prove', 'desired', 'endpoint'], ['If', 'difficult', 'accept', 'Felix', 'anything', 'beautiful', 'kind', 'enigmatic', 'must', 'ask', 'even', 'know', 'Felix'], ['He', 'ever', 'shown', 'audience', 'Oliver', 'eyes', 'rose-tinted', 'view', 'say', 'least'], ['The', 'Minotaur', 'demanded', 'human', 'sacrifices', 'Felix', 'history', 'bringing', 'home', 'pleb', 'friends', 'easily', 'replaceable', 'fulfill', 'desire', 'playing', 'saviour', 'adored'], ['They', 'turn', 'sacrifice', 'Oliver'], ['Picasso', 'interpretation', 'Minotaur', 'also', 'lends', 'support', 'analysis'], ['More', 'artists', 'time', 'Picasso', 'unique', 'fascination', 'Minotaur', 'made', 'sense', 'myth', 'profoundly', 'personal', 'terms'], ['His', 'depictions', 'minotaurs', 'bear', 'little', 'resemblance', 'Greek', 'mythology'], ['Instead', 'monstrous', 'hybrid', 'found', 'sunny', 'Mediterranean', 'coastline', 'frequented', 'wealthy'], ['Picasso', 'describes', 'That', 'minotaurs', 'live', 'along', 'coast'], ['They', 'rich', 'seigneurs', 'island'], ['They', 'know', 'monsters', 'live', 'like', 'dandies', 'dilettantes', 'everywhere', 'kind', 'existence', 'reeks', 'decadence', 'houses', 'filled', 'works', 'art', 'fashionable', 'painters', 'sculptors'], ['They', 'love', 'surrounded', 'pretty', 'women'], ['They', 'get', 'local', 'fishermen', 'go', 'round', 'girls', 'neighboring', 'islands'], ['After', 'heat', 'day', 'passed', 'bring', 'sculptors', 'models', 'parties', 'music', 'dancing', 'everybody', 'gorges', 'mussels', 'champagne', 'melancholy', 'fades', 'away', 'euphoria', 'takes'], ['From', 'orgy'], ['Picasso', 'minotaurs', 'certainly', 'mirror', 'Cattons', 'sharpness', 'Fennell', 'evident'], ['Although', 'centers', 'English', 'country', 'house', 'names', 'film', 'Saltburn', 'dismissed', 'perpetuating', 'genteel', 'aristocratic', 'privilege', 'reduced', 'statement', 'class'], ['recent', 'string', 'eat-the-rich', 'movies', 'make', 'easy', 'categorize', 'Saltburn', 'another', 'example', 'horrific', 'karmic', 'violence', 'befalling', 'group', 'terrible', 'wealthy', 'people'], ['That', 'would', 'boring'], ['If', 'anything', 'Saltburn', 'literal', 'eat-the-rich', 'story', 'whereby', 'semen', 'menstrual', 'blood', 'consumed', 'protagonist', 'effort', 'inhabit', 'world', 'inner', 'life', 'hosts'], ['In', 'instance', 'stately', 'home', 'Cattons', 'identified', 'type', 'Arcadia', 'partially', 'realized', 'equivalent', 'reconstitution', 'system', 'physical', 'metaphysical', 'relationships', 'understood', 'felt', 'sense', 'prior', 'authoritative', 'culture', 'therefore', 'natural'], ['Arcadia', 'first', 'appears', 'work', 'Greek', 'historian', 'Polybius', 'describes', 'stretch', 'Peloponnese', 'inhabitants', 'cultivated', 'art', 'song', 'distraction', 'toil'], ['In', 'Virgil', 'tenth', 'Eclogue', 'frustrated', 'lover', 'Gallus', 'retreats', 'paradise', 'called', 'Arcadia', 'finds', 'gratification', 'compensates', 'wild', 'barren', 'emotional', 'landscape', 'unsatisfied', 'love'], ['William', 'Alexander', 'McClung', 'describes', 'Arcadia', 'state', 'wish', 'fulfillment', 'nature', 'psychology', 'cooperate', 'image', 'ideal', 'also', 'like', 'objects', 'nostalgia', 'unattainable'], ['The', 'unattainability', 'Saltburn', 'stands', 'found', 'character', 'Farleigh', 'words', 'Oliver', 'This', 'place', 'fucking', 'dream', 'Yet', 'psychologically', 'unattainable', 'also', 'found', 'topographically', 'Saltburn', 'implies', 'limits', 'defined', 'boundaries', 'well', 'juxtaposition', 'balancing', 'different', 'elements', 'buildings', 'gardens', 'maze', 'lake', 'kinds', 'characters', 'centered'], ['These', 'features', 'make', 'Saltburn', 'good', 'film'], ['The', 'possibility', 'multiple', 'interpretations', 'difficult', 'come', 'modern', 'cinema', 'even', 'independent', 'films', 'suffer', 'tedious', 'on-the-nose', 'virtue', 'signaling'], ['Saltburn', 'means', 'perfect', 'captures', 'one', 'interest'], ['While', 'still', 'think', 'Fennell', 'debut', 'film', 'Promising', 'Young', 'Woman', 'stands', 'league', 'Saltburn', 'visual', 'richness', 'beauty', 'combined', 'Fennell', 'signature', 'nostalgia', '2000s', 'make', 'well', 'worth', 'watch', 'even', 'times', 'nauseates']]\n"
     ]
    }
   ],
   "source": [
    "Stop_word = stopwords.words('english') + list(string.ascii_lowercase) + list(string.ascii_uppercase)\n",
    "\n",
    "words_nostop_in_sentence = []\n",
    "for i in words_in_sentence:\n",
    "    temp = [word for word in i if word not in Stop_word]\n",
    "    words_nostop_in_sentence.append(temp)\n",
    "print(words_nostop_in_sentence)"
   ]
  },
  {
   "cell_type": "markdown",
   "metadata": {},
   "source": [
    "### POS Tagging"
   ]
  },
  {
   "cell_type": "code",
   "execution_count": 10,
   "metadata": {},
   "outputs": [
    {
     "name": "stdout",
     "output_type": "stream",
     "text": [
      "[[('Writer-director', 'NNP'), ('Emerald', 'NNP'), ('Fennell', 'NNP'), ('Saltburn', 'NNP'), ('rare', 'JJ'), ('film', 'NN'), ('internet', 'NN'), ('chokehold', 'VBD'), ('simultaneously', 'RB'), ('digging', 'VBG'), ('references', 'NNS'), ('Shakespeare', 'NNP'), ('Evelyn', 'NNP'), ('Waugh', 'NNP'), ('Greek', 'NNP'), ('mythology', 'NN')], [('It', 'PRP'), ('since', 'IN'), ('watched', 'VBN'), ('film', 'NN'), ('centers', 'NNS'), ('group', 'NN'), ('friends', 'VBZ'), ('Oxford', 'NNP'), ('turns', 'VBZ'), ('country', 'NN'), ('house', 'NN'), ('thriller', 'NN')], [('Set', 'NNP'), ('mid', 'VBD'), ('2000s', 'CD'), ('Saltburn', 'NNP'), ('follows', 'VBZ'), ('lonely', 'RB'), ('outcast', 'VBN'), ('first', 'JJ'), ('year', 'NN'), ('student', 'NN'), ('Oliver', 'NNP'), ('Quick', 'NNP'), ('Barry', 'NNP'), ('Keoghan', 'NNP'), ('drawn', 'NN'), ('inner', 'JJ'), ('circle', 'NN'), ('wealthy', 'JJ'), ('beautiful', 'JJ'), ('Felix', 'NNP'), ('Catton', 'NNP'), ('Jacob', 'NNP'), ('Elordi', 'NNP')], [('While', 'IN'), ('comparisons', 'NNS'), ('novels', 'NNS'), ('films', 'VBP'), ('abound', 'RB'), ('directly', 'RB'), ('referenced', 'VBN'), ('others', 'NNS'), ('certain', 'JJ'), ('scenes', 'NNS'), ('simultaneously', 'RB'), ('revolted', 'VBD'), ('intrigued', 'JJ'), ('viewers', 'NNS'), ('unsurprisingly', 'RB'), ('find', 'VBP'), ('thinking', 'VBG'), ('symbolism', 'NN'), ('Greek', 'NNP'), ('mythology', 'NN')], [('Major', 'JJ'), ('spoilers', 'NNS'), ('Saltburn', 'VBP'), ('follow', 'VB')], [('The', 'DT'), ('obvious', 'JJ'), ('symbolism', 'NN'), ('Saltburn', 'NNP'), ('found', 'VBD'), ('figure', 'NN'), ('Minotaur', 'NNP'), ('stands', 'VBZ'), ('menacingly', 'RB'), ('estate', 'NN'), ('maze', 'JJ'), ('scene', 'NN'), ('Felix', 'NNP'), ('murder', 'NN')], [('In', 'IN'), ('Greek', 'NNP'), ('mythology', 'NN'), ('Minotaur', 'NNP'), ('offspring', 'VBG'), ('Minoan', 'NNP'), ('queen', 'JJ'), ('bull', 'NN'), ('human', 'NN'), ('body', 'NN'), ('bull', 'NN'), ('head', 'NN')], [('The', 'DT'), ('monster', 'NN'), ('condemned', 'VBD'), ('live', 'JJ'), ('underground', 'JJ'), ('labyrinth', 'NN'), ('designed', 'VBN'), ('master', 'RBR'), ('craftsman', 'JJ'), ('Daedalus', 'NNP'), ('fed', 'NN'), ('human', 'JJ'), ('sacrifice', 'NN')], [('Eventually', 'RB'), ('young', 'JJ'), ('hero', 'NN'), ('named', 'VBN'), ('Theseus', 'NNP'), ('kills', 'NNS'), ('Minotaur', 'NNP'), ('puts', 'VBZ'), ('end', 'JJ'), ('human', 'JJ'), ('slaughter', 'NN')], [('Theseus', 'NNP'), ('however', 'RB'), ('manipulates', 'VBZ'), ('royal', 'JJ'), ('family', 'NN'), ('eventually', 'RB'), ('wins', 'VBZ'), ('crown', 'JJ')], [('The', 'DT'), ('figure', 'NN'), ('Minotaur', 'NNP'), ('neatly', 'RB'), ('categorized', 'VBD')], [('While', 'IN'), ('metamorphasized', 'VBN'), ('creature', 'NN'), ('mythology', 'NN'), ('offers', 'NNS'), ('plenty', 'VBP'), ('examples', 'VBZ'), ('sequential', 'JJ'), ('hybridity', 'NN'), ('Minotaur', 'NNP'), ('neither', 'CC'), ('fully', 'RB'), ('human', 'JJ'), ('entirely', 'RB'), ('beast', 'JJ'), ('occupies', 'NNS'), ('two', 'CD'), ('categories', 'NNS'), ('simultaneously', 'RB')], [('The', 'DT'), ('Roman', 'NNP'), ('poet', 'NN'), ('Ovid', 'NNP'), ('captured', 'VBD'), ('describing', 'VBG'), ('Minotaur', 'NNP'), ('half-bovine', 'JJ'), ('man', 'NN'), ('half-human', 'JJ'), ('bull', 'NN')], [('In', 'IN'), ('modernity', 'NN'), ('Minotaur', 'NNP'), ('featured', 'VBD'), ('quite', 'RB'), ('prominently', 'RB'), ('work', 'NN'), ('Surrealists', 'NNS'), ('saw', 'VBD'), ('disruptive', 'JJ'), ('powerful', 'JJ'), ('necessary', 'JJ'), ('force', 'NN')], [('The', 'DT'), ('image', 'NN'), ('creature', 'NN'), ('inspired', 'VBD'), ('Georges', 'NNP'), ('Bataille', 'NNP'), ('André', 'NNP'), ('Masson', 'NNP'), ('publish', 'JJ'), ('journal', 'NN'), ('called', 'VBN'), ('Minotaure', 'NNP'), ('Paris', 'NNP')], [('The', 'DT'), ('journal', 'NN'), ('published', 'VBN'), ('1933', 'CD'), ('1939', 'CD'), ('fittingly', 'RB'), ('bound', 'VBN'), ('cowhide', 'NN')], [('Each', 'DT'), ('issue', 'NN'), ('featured', 'VBN'), ('cover', 'RB'), ('depicting', 'VBG'), ('either', 'CC'), ('Minotaur', 'NNP'), ('labyrinth', 'VBP'), ('one', 'CD'), ('following', 'VBG'), ('artists', 'NNS'), ('Pablo', 'NNP'), ('Picasso', 'NNP'), ('Gaston-Louis', 'NNP'), ('Roux', 'NNP'), ('André', 'NNP'), ('Derain', 'NNP'), ('F.', 'NNP'), ('Borès', 'NNP'), ('Marcel', 'NNP'), ('Duchamp', 'NNP'), ('Joan', 'NNP'), ('Miró', 'NNP'), ('Salvador', 'NNP'), ('Dalí', 'NNP'), ('Henri', 'NNP'), ('Matisse', 'NNP'), ('René', 'NNP'), ('Magritte', 'NNP'), ('Max', 'NNP'), ('Ernst', 'NNP'), ('André', 'NNP'), ('Masson', 'NNP'), ('Diego', 'NNP'), ('Rivera', 'NNP')], [('Marcel', 'JJ'), ('Jean', 'NNP'), ('painter', 'NN'), ('critic', 'NN'), ('writing', 'VBG'), ('journal', 'JJ'), ('described', 'VBN'), ('Minotaur', 'NNP'), ('ancient', 'JJ'), ('symbol', 'NN'), ('classical', 'JJ'), ('example', 'NN'), ('hybrid', 'NN'), ('considered', 'VBN'), ('western', 'JJ'), ('world', 'NN'), ('monster', 'NN')], [('He', 'PRP'), ('even', 'RB'), ('tried', 'VBD'), ('make', 'VB'), ('etymological', 'JJ'), ('connection', 'NN'), ('hybrid', 'NN'), ('word', 'NN'), ('hubris', 'NN'), ('denotes', 'VBZ'), ('proud', 'JJ'), ('insolence', 'NN'), ('gods', 'NNS')], [('Jean', 'NNP'), ('concludes', 'VBZ'), ('Theseus', 'NNP'), ('represents', 'VBZ'), ('conscious', 'JJ'), ('mind', 'NN'), ('Minotaur', 'NNP'), ('unconscious', 'JJ')], [('Following', 'VBG'), ('Jean-François', 'NNP'), ('Revel', 'NNP'), ('noted', 'VBD'), ('Minotaur', 'NNP'), ('half-man', 'JJ'), ('half-bull', 'JJ'), ('symbolizes', 'NN'), ('powers', 'NNS'), ('unconscious', 'JJ'), ('particular', 'JJ'), ('realm', 'NN'), ('reason', 'NN'), ('excluded', 'VBD'), ('passions', 'NNS'), ('rule', 'NN')], [('In', 'IN'), ('commentary', 'JJ'), ('Picasso', 'NNP'), ('Minotauro', 'NNP'), ('Paloma', 'NNP'), ('Esteban', 'NNP'), ('Leal', 'NNP'), ('suggests', 'VBZ'), ('Minotaur', 'NNP'), ('exemplifies', 'NNS'), ('ethical', 'JJ'), ('political', 'JJ'), ('convictions', 'NNS'), ('Surrealists', 'NNS'), ('unlimited', 'VBD'), ('freedom', 'NN'), ('uncompromising', 'VBG'), ('proclamation', 'NN'), ('violence', 'NN'), ('total', 'JJ'), ('revolution', 'NN'), ('insubordination', 'NN'), ('established', 'VBD'), ('order', 'NN')], [('Oliver', 'RB'), ('undoubtedly', 'RB'), ('likened', 'VBN'), ('Minotaur', 'NNP'), ('insatiable', 'JJ'), ('hunger', 'NN'), ('human', 'JJ'), ('flesh', 'NN')], [('The', 'DT'), ('filmmakers', 'NNS'), ('provide', 'VBP'), ('us', 'PRP'), ('two', 'CD'), ('hints', 'NNS'), ('Oliver', 'IN'), ('wears', 'NNS'), ('horns', 'VBP'), ('party', 'NN'), ('Minotaur', 'NNP'), ('statue', 'NN'), ('maze', 'NN'), ('Saltburn', 'NNP'), ('modeled', 'VBD'), ('actor', 'NN'), ('Barry', 'NNP'), ('Keoghan', 'NNP'), ('body', 'NN')], [('Like', 'IN'), ('Minotaur', 'NNP'), ('Oliver', 'NNP'), ('animal', 'JJ'), ('element', 'NN'), ('rules', 'NNS')], [('He', 'PRP'), ('therefore', 'RB'), ('bound', 'VBD'), ('norms', 'NNS'), ('audience', 'NN')], [('The', 'DT'), ('bull', 'NN'), ('keen', 'NN'), ('sense', 'NN'), ('smell', 'NN'), ('able', 'JJ'), ('sniff', 'NN'), ('threat', 'NN'), ('one', 'CD'), ('step', 'NN'), ('ahead', 'RB'), ('quick', 'JJ')], [('At', 'IN'), ('party', 'NN'), ('Felix', 'NNP'), ('angel', 'NN'), ('wings', 'NNS'), ('encounters', 'NNS'), ('brutal', 'JJ'), ('reality', 'NN'), ('uncompromising', 'VBG'), ('proclamation', 'NN'), ('violence', 'NN'), ('entirely', 'RB'), ('unprepared', 'JJ')], [('Angelic', 'JJ'), ('innocence', 'NN'), ('confronts', 'NNS'), ('savage', 'NN'), ('darker', 'NN'), ('elements', 'NNS'), ('human', 'JJ'), ('nature', 'NN')], [('The', 'DT'), ('juxtaposition', 'NN'), ('angel', 'VBZ'), ('Icarus', 'NNP')], [('Minotaur', 'NNP'), ('highlights', 'NNS'), ('conflict', 'NN'), ('ideal', 'NN'), ('primal', 'JJ'), ('ethereal', 'NN'), ('earthly', 'RB'), ('corporeal', 'JJ'), ('intangible', 'JJ')], [('But', 'CC'), ('symbolism', 'NN'), ('Minotaur', 'NNP'), ('actually', 'RB'), ('inverted', 'VBD')], [('What', 'WP'), ('Felix', 'NNP'), ('monster', 'NN'), ('Oliver', 'NNP'), ('hero', 'NN'), ('pulling', 'VBG'), ('Theseus', 'NNP'), ('slaying', 'VBG'), ('Minotaur', 'NNP'), ('seizing', 'VBG'), ('throne', 'NN'), ('Saltburn', 'NNP')], [('The', 'DT'), ('film', 'NN'), ('final', 'JJ'), ('scene', 'NN'), ('one', 'CD'), ('hand', 'NN'), ('nice', 'JJ'), ('demonstration', 'NN'), ('lengths', 'NNS'), ('millennial', 'JJ'), ('go', 'VBP'), ('order', 'NN'), ('real', 'JJ'), ('estate', 'NN'), ('speaks', 'NNS'), ('Oliver', 'NNP'), ('hero', 'NN')], [('His', 'PRP$'), ('dance', 'NN'), ('Murder', 'NNP'), ('Dancefloor', 'NNP'), ('features', 'VBZ'), ('many', 'JJ'), ('poses', 'NNS'), ('reminiscent', 'JJ'), ('statues', 'NNS'), ('Greek', 'VBP'), ('gods', 'NNS'), ('also', 'RB'), ('forms', 'VBP'), ('poses', 'NNS'), ('entirely', 'RB'), ('nude', 'VBP')], [('Perhaps', 'RB'), ('Oliver', 'NNP'), ('quasi-heroic', 'JJ'), ('turn', 'NN'), ('happens', 'VBZ'), ('murders', 'NNS'), ('Felix', 'NNP'), ('perhaps', 'RB'), ('takes', 'VBZ'), ('place', 'NN'), ('cemetery', 'NN'), ('scene', 'NN')], [('In', 'IN'), ('disturbing', 'VBG'), ('moment', 'NN'), ('film', 'NN'), ('Oliver', 'NNP'), ('strips', 'VBZ'), ('penetrates', 'NNS'), ('soil', 'VBP'), ('atop', 'JJ'), ('Felix', 'NNP'), ('fresh', 'NN'), ('grave', 'NN')], [('Legally', 'RB'), ('speaking', 'VBG'), ('cemetery', 'JJ'), ('scene', 'NN'), ('would', 'MD'), ('likely', 'RB'), ('categorized', 'VB'), ('form', 'NN'), ('necrophilia', 'NN')], [('Morally', 'RB'), ('corrupted', 'VBN'), ('scene', 'NN'), ('Saltburn', 'NNP'), ('even', 'RB'), ('Ancient', 'NNP'), ('Greeks', 'NNP'), ('shirked', 'VBD'), ('idea', 'NN'), ('disrespecting', 'VBG'), ('dead', 'JJ')], [('What', 'WP'), ('Greeks', 'NNP'), ('sanction', 'NN'), ('however', 'RB'), ('notion', 'JJ'), ('link', 'VBP'), ('death', 'NN'), ('spirit', 'NN'), ('possession', 'NN'), ('rituals', 'NNS')], [('If', 'IN'), ('interpret', 'JJ'), ('Oliver', 'NNP'), ('indeed', 'RB'), ('partaking', 'VBG'), ('symbolic', 'JJ'), ('rebirth', 'NN'), ('kind', 'NN'), ('ritual', 'JJ'), ('cemetery', 'NN'), ('gain', 'NN'), ('clearer', 'NN'), ('picture', 'NN'), ('diseased', 'VBD'), ('mind', 'NN')], [('Katherine', 'NNP'), ('Boris', 'NNP'), ('Dernbach', 'NNP'), ('notes', 'NNS'), ('Greek', 'NNP'), ('cult', 'NN'), ('ritual', 'JJ'), ('possession', 'NN'), ('blurs', 'NNS'), ('line', 'NN'), ('living', 'VBG'), ('dead', 'JJ'), ('self', 'JJ'), ('corporeal', 'NN'), ('body', 'NN'), ('ethereal', 'JJ'), ('spirit', 'NN')], [('These', 'DT'), ('lines', 'NNS'), ('precisely', 'RB'), ('ones', 'NNS'), ('Oliver', 'NNP'), ('seeks', 'VBZ'), ('blur', 'NN'), ('remove', 'VB'), ('entirely', 'RB')], [('His', 'PRP$'), ('actions', 'NNS'), ('wake', 'VBP'), ('Felix', 'NNP'), ('death', 'NN'), ('prove', 'NN'), ('desired', 'VBD'), ('endpoint', 'NN')], [('If', 'IN'), ('difficult', 'JJ'), ('accept', 'JJ'), ('Felix', 'NNP'), ('anything', 'NN'), ('beautiful', 'JJ'), ('kind', 'NN'), ('enigmatic', 'JJ'), ('must', 'MD'), ('ask', 'VB'), ('even', 'RB'), ('know', 'VBP'), ('Felix', 'NNP')], [('He', 'PRP'), ('ever', 'RB'), ('shown', 'VBN'), ('audience', 'NN'), ('Oliver', 'NNP'), ('eyes', 'VBZ'), ('rose-tinted', 'JJ'), ('view', 'NNS'), ('say', 'VBP'), ('least', 'JJS')], [('The', 'DT'), ('Minotaur', 'NNP'), ('demanded', 'VBD'), ('human', 'JJ'), ('sacrifices', 'NNS'), ('Felix', 'NNP'), ('history', 'NN'), ('bringing', 'VBG'), ('home', 'NN'), ('pleb', 'NN'), ('friends', 'NNS'), ('easily', 'RB'), ('replaceable', 'JJ'), ('fulfill', 'NN'), ('desire', 'NN'), ('playing', 'VBG'), ('saviour', 'NNS'), ('adored', 'VBD')], [('They', 'PRP'), ('turn', 'VBP'), ('sacrifice', 'JJ'), ('Oliver', 'NNP')], [('Picasso', 'NNP'), ('interpretation', 'NN'), ('Minotaur', 'NNP'), ('also', 'RB'), ('lends', 'VBZ'), ('support', 'NN'), ('analysis', 'NN')], [('More', 'RBR'), ('artists', 'NNS'), ('time', 'NN'), ('Picasso', 'NNP'), ('unique', 'JJ'), ('fascination', 'NN'), ('Minotaur', 'NNP'), ('made', 'VBD'), ('sense', 'NN'), ('myth', 'NN'), ('profoundly', 'RB'), ('personal', 'JJ'), ('terms', 'NNS')], [('His', 'PRP$'), ('depictions', 'NNS'), ('minotaurs', 'VBP'), ('bear', 'JJ'), ('little', 'JJ'), ('resemblance', 'NN'), ('Greek', 'NNP'), ('mythology', 'NN')], [('Instead', 'RB'), ('monstrous', 'JJ'), ('hybrid', 'JJ'), ('found', 'VBD'), ('sunny', 'JJ'), ('Mediterranean', 'NNP'), ('coastline', 'NN'), ('frequented', 'VBD'), ('wealthy', 'JJ')], [('Picasso', 'NNP'), ('describes', 'VBZ'), ('That', 'IN'), ('minotaurs', 'NNS'), ('live', 'VBP'), ('along', 'IN'), ('coast', 'NN')], [('They', 'PRP'), ('rich', 'VBP'), ('seigneurs', 'NNS'), ('island', 'VBP')], [('They', 'PRP'), ('know', 'VBP'), ('monsters', 'NNS'), ('live', 'VBP'), ('like', 'IN'), ('dandies', 'NNS'), ('dilettantes', 'NNS'), ('everywhere', 'RB'), ('kind', 'NN'), ('existence', 'NN'), ('reeks', 'NN'), ('decadence', 'NN'), ('houses', 'NNS'), ('filled', 'VBD'), ('works', 'NNS'), ('art', 'RB'), ('fashionable', 'JJ'), ('painters', 'NNS'), ('sculptors', 'NNS')], [('They', 'PRP'), ('love', 'VBP'), ('surrounded', 'VBD'), ('pretty', 'RB'), ('women', 'NNS')], [('They', 'PRP'), ('get', 'VBP'), ('local', 'JJ'), ('fishermen', 'NNS'), ('go', 'VBP'), ('round', 'JJ'), ('girls', 'NNS'), ('neighboring', 'VBG'), ('islands', 'NNS')], [('After', 'IN'), ('heat', 'NN'), ('day', 'NN'), ('passed', 'VBD'), ('bring', 'NN'), ('sculptors', 'NNS'), ('models', 'NNS'), ('parties', 'NNS'), ('music', 'NN'), ('dancing', 'VBG'), ('everybody', 'NN'), ('gorges', 'VBZ'), ('mussels', 'NNS'), ('champagne', 'NN'), ('melancholy', 'NN'), ('fades', 'VBZ'), ('away', 'RB'), ('euphoria', 'JJ'), ('takes', 'VBZ')], [('From', 'IN'), ('orgy', 'NN')], [('Picasso', 'NNP'), ('minotaurs', 'VBZ'), ('certainly', 'RB'), ('mirror', 'JJ'), ('Cattons', 'NNP'), ('sharpness', 'NN'), ('Fennell', 'NNP'), ('evident', 'NN')], [('Although', 'IN'), ('centers', 'NNS'), ('English', 'JJ'), ('country', 'NN'), ('house', 'NN'), ('names', 'NNS'), ('film', 'NN'), ('Saltburn', 'NNP'), ('dismissed', 'VBD'), ('perpetuating', 'VBG'), ('genteel', 'NN'), ('aristocratic', 'JJ'), ('privilege', 'NN'), ('reduced', 'VBN'), ('statement', 'NN'), ('class', 'NN')], [('recent', 'JJ'), ('string', 'VBG'), ('eat-the-rich', 'JJ'), ('movies', 'NNS'), ('make', 'VBP'), ('easy', 'JJ'), ('categorize', 'VB'), ('Saltburn', 'NNP'), ('another', 'DT'), ('example', 'NN'), ('horrific', 'NN'), ('karmic', 'JJ'), ('violence', 'NN'), ('befalling', 'VBG'), ('group', 'NN'), ('terrible', 'JJ'), ('wealthy', 'JJ'), ('people', 'NNS')], [('That', 'DT'), ('would', 'MD'), ('boring', 'VB')], [('If', 'IN'), ('anything', 'NN'), ('Saltburn', 'NNP'), ('literal', 'JJ'), ('eat-the-rich', 'JJ'), ('story', 'NN'), ('whereby', 'WRB'), ('semen', 'NNS'), ('menstrual', 'JJ'), ('blood', 'NN'), ('consumed', 'VBN'), ('protagonist', 'JJ'), ('effort', 'NN'), ('inhabit', 'NN'), ('world', 'NN'), ('inner', 'JJ'), ('life', 'NN'), ('hosts', 'NNS')], [('In', 'IN'), ('instance', 'NN'), ('stately', 'RB'), ('home', 'NN'), ('Cattons', 'NNP'), ('identified', 'VBD'), ('type', 'JJ'), ('Arcadia', 'NNP'), ('partially', 'RB'), ('realized', 'VBD'), ('equivalent', 'JJ'), ('reconstitution', 'NN'), ('system', 'NN'), ('physical', 'JJ'), ('metaphysical', 'JJ'), ('relationships', 'NNS'), ('understood', 'VBD'), ('felt', 'JJ'), ('sense', 'NN'), ('prior', 'RB'), ('authoritative', 'JJ'), ('culture', 'NN'), ('therefore', 'RB'), ('natural', 'JJ')], [('Arcadia', 'NNP'), ('first', 'JJ'), ('appears', 'VBZ'), ('work', 'NN'), ('Greek', 'NNP'), ('historian', 'JJ'), ('Polybius', 'NNP'), ('describes', 'VBZ'), ('stretch', 'VB'), ('Peloponnese', 'JJ'), ('inhabitants', 'NNS'), ('cultivated', 'VBD'), ('art', 'NN'), ('song', 'NN'), ('distraction', 'NN'), ('toil', 'NN')], [('In', 'IN'), ('Virgil', 'NNP'), ('tenth', 'JJ'), ('Eclogue', 'NNP'), ('frustrated', 'VBD'), ('lover', 'RB'), ('Gallus', 'NNP'), ('retreats', 'NNS'), ('paradise', 'VBP'), ('called', 'VBN'), ('Arcadia', 'NNP'), ('finds', 'VBZ'), ('gratification', 'NN'), ('compensates', 'VBZ'), ('wild', 'JJ'), ('barren', 'NNS'), ('emotional', 'JJ'), ('landscape', 'NN'), ('unsatisfied', 'VBD'), ('love', 'NN')], [('William', 'NNP'), ('Alexander', 'NNP'), ('McClung', 'NNP'), ('describes', 'VBZ'), ('Arcadia', 'NNP'), ('state', 'NN'), ('wish', 'JJ'), ('fulfillment', 'NN'), ('nature', 'NN'), ('psychology', 'NN'), ('cooperate', 'NN'), ('image', 'NN'), ('ideal', 'NN'), ('also', 'RB'), ('like', 'JJ'), ('objects', 'NNS'), ('nostalgia', 'VBP'), ('unattainable', 'JJ')], [('The', 'DT'), ('unattainability', 'NN'), ('Saltburn', 'NNP'), ('stands', 'VBZ'), ('found', 'JJ'), ('character', 'NN'), ('Farleigh', 'NNP'), ('words', 'NNS'), ('Oliver', 'NNP'), ('This', 'DT'), ('place', 'NN'), ('fucking', 'VBG'), ('dream', 'NN'), ('Yet', 'RB'), ('psychologically', 'RB'), ('unattainable', 'JJ'), ('also', 'RB'), ('found', 'VBN'), ('topographically', 'RB'), ('Saltburn', 'NNP'), ('implies', 'VBZ'), ('limits', 'NNS'), ('defined', 'VBN'), ('boundaries', 'NNS'), ('well', 'RB'), ('juxtaposition', 'VBP'), ('balancing', 'VBG'), ('different', 'JJ'), ('elements', 'NNS'), ('buildings', 'NNS'), ('gardens', 'NNS'), ('maze', 'VBP'), ('lake', 'JJ'), ('kinds', 'NNS'), ('characters', 'NNS'), ('centered', 'VBD')], [('These', 'DT'), ('features', 'NNS'), ('make', 'VBP'), ('Saltburn', 'NNP'), ('good', 'JJ'), ('film', 'NN')], [('The', 'DT'), ('possibility', 'NN'), ('multiple', 'JJ'), ('interpretations', 'NNS'), ('difficult', 'JJ'), ('come', 'JJ'), ('modern', 'JJ'), ('cinema', 'NN'), ('even', 'RB'), ('independent', 'JJ'), ('films', 'NNS'), ('suffer', 'VBP'), ('tedious', 'JJ'), ('on-the-nose', 'JJ'), ('virtue', 'NN'), ('signaling', 'VBG')], [('Saltburn', 'NN'), ('means', 'VBZ'), ('perfect', 'JJ'), ('captures', 'VBZ'), ('one', 'CD'), ('interest', 'NN')], [('While', 'IN'), ('still', 'RB'), ('think', 'VBP'), ('Fennell', 'NNP'), ('debut', 'NN'), ('film', 'NN'), ('Promising', 'NNP'), ('Young', 'NNP'), ('Woman', 'NNP'), ('stands', 'VBZ'), ('league', 'JJ'), ('Saltburn', 'NNP'), ('visual', 'JJ'), ('richness', 'NN'), ('beauty', 'NN'), ('combined', 'VBN'), ('Fennell', 'NNP'), ('signature', 'NN'), ('nostalgia', 'VBZ'), ('2000s', 'CD'), ('make', 'NN'), ('well', 'RB'), ('worth', 'JJ'), ('watch', 'NN'), ('even', 'RB'), ('times', 'NNS'), ('nauseates', 'NNS')]]\n"
     ]
    }
   ],
   "source": [
    "POS = []\n",
    "for i in words_nostop_in_sentence:\n",
    "    POS.append(nltk.pos_tag(i))\n",
    "\n",
    "print(POS)"
   ]
  },
  {
   "cell_type": "markdown",
   "metadata": {},
   "source": [
    "### Lemmatization"
   ]
  },
  {
   "cell_type": "code",
   "execution_count": 11,
   "metadata": {},
   "outputs": [
    {
     "name": "stdout",
     "output_type": "stream",
     "text": [
      "[['Writer-director', 'Emerald', 'Fennell', 'Saltburn', 'rare', 'film', 'internet', 'chokehold', 'simultaneously', 'digging', 'reference', 'Shakespeare', 'Evelyn', 'Waugh', 'Greek', 'mythology'], ['It', 'since', 'watched', 'film', 'center', 'group', 'friend', 'Oxford', 'turn', 'country', 'house', 'thriller'], ['Set', 'mid', '2000s', 'Saltburn', 'follows', 'lonely', 'outcast', 'first', 'year', 'student', 'Oliver', 'Quick', 'Barry', 'Keoghan', 'drawn', 'inner', 'circle', 'wealthy', 'beautiful', 'Felix', 'Catton', 'Jacob', 'Elordi'], ['While', 'comparison', 'novel', 'film', 'abound', 'directly', 'referenced', 'others', 'certain', 'scene', 'simultaneously', 'revolted', 'intrigued', 'viewer', 'unsurprisingly', 'find', 'thinking', 'symbolism', 'Greek', 'mythology'], ['Major', 'spoiler', 'Saltburn', 'follow'], ['The', 'obvious', 'symbolism', 'Saltburn', 'found', 'figure', 'Minotaur', 'stand', 'menacingly', 'estate', 'maze', 'scene', 'Felix', 'murder'], ['In', 'Greek', 'mythology', 'Minotaur', 'offspring', 'Minoan', 'queen', 'bull', 'human', 'body', 'bull', 'head'], ['The', 'monster', 'condemned', 'live', 'underground', 'labyrinth', 'designed', 'master', 'craftsman', 'Daedalus', 'fed', 'human', 'sacrifice'], ['Eventually', 'young', 'hero', 'named', 'Theseus', 'kill', 'Minotaur', 'put', 'end', 'human', 'slaughter'], ['Theseus', 'however', 'manipulates', 'royal', 'family', 'eventually', 'win', 'crown'], ['The', 'figure', 'Minotaur', 'neatly', 'categorized'], ['While', 'metamorphasized', 'creature', 'mythology', 'offer', 'plenty', 'example', 'sequential', 'hybridity', 'Minotaur', 'neither', 'fully', 'human', 'entirely', 'beast', 'occupies', 'two', 'category', 'simultaneously'], ['The', 'Roman', 'poet', 'Ovid', 'captured', 'describing', 'Minotaur', 'half-bovine', 'man', 'half-human', 'bull'], ['In', 'modernity', 'Minotaur', 'featured', 'quite', 'prominently', 'work', 'Surrealists', 'saw', 'disruptive', 'powerful', 'necessary', 'force'], ['The', 'image', 'creature', 'inspired', 'Georges', 'Bataille', 'André', 'Masson', 'publish', 'journal', 'called', 'Minotaure', 'Paris'], ['The', 'journal', 'published', '1933', '1939', 'fittingly', 'bound', 'cowhide'], ['Each', 'issue', 'featured', 'cover', 'depicting', 'either', 'Minotaur', 'labyrinth', 'one', 'following', 'artist', 'Pablo', 'Picasso', 'Gaston-Louis', 'Roux', 'André', 'Derain', 'F.', 'Borès', 'Marcel', 'Duchamp', 'Joan', 'Miró', 'Salvador', 'Dalí', 'Henri', 'Matisse', 'René', 'Magritte', 'Max', 'Ernst', 'André', 'Masson', 'Diego', 'Rivera'], ['Marcel', 'Jean', 'painter', 'critic', 'writing', 'journal', 'described', 'Minotaur', 'ancient', 'symbol', 'classical', 'example', 'hybrid', 'considered', 'western', 'world', 'monster'], ['He', 'even', 'tried', 'make', 'etymological', 'connection', 'hybrid', 'word', 'hubris', 'denotes', 'proud', 'insolence', 'god'], ['Jean', 'concludes', 'Theseus', 'represents', 'conscious', 'mind', 'Minotaur', 'unconscious'], ['Following', 'Jean-François', 'Revel', 'noted', 'Minotaur', 'half-man', 'half-bull', 'symbolizes', 'power', 'unconscious', 'particular', 'realm', 'reason', 'excluded', 'passion', 'rule'], ['In', 'commentary', 'Picasso', 'Minotauro', 'Paloma', 'Esteban', 'Leal', 'suggests', 'Minotaur', 'exemplifies', 'ethical', 'political', 'conviction', 'Surrealists', 'unlimited', 'freedom', 'uncompromising', 'proclamation', 'violence', 'total', 'revolution', 'insubordination', 'established', 'order'], ['Oliver', 'undoubtedly', 'likened', 'Minotaur', 'insatiable', 'hunger', 'human', 'flesh'], ['The', 'filmmaker', 'provide', 'u', 'two', 'hint', 'Oliver', 'wear', 'horn', 'party', 'Minotaur', 'statue', 'maze', 'Saltburn', 'modeled', 'actor', 'Barry', 'Keoghan', 'body'], ['Like', 'Minotaur', 'Oliver', 'animal', 'element', 'rule'], ['He', 'therefore', 'bound', 'norm', 'audience'], ['The', 'bull', 'keen', 'sense', 'smell', 'able', 'sniff', 'threat', 'one', 'step', 'ahead', 'quick'], ['At', 'party', 'Felix', 'angel', 'wing', 'encounter', 'brutal', 'reality', 'uncompromising', 'proclamation', 'violence', 'entirely', 'unprepared'], ['Angelic', 'innocence', 'confronts', 'savage', 'darker', 'element', 'human', 'nature'], ['The', 'juxtaposition', 'angel', 'Icarus'], ['Minotaur', 'highlight', 'conflict', 'ideal', 'primal', 'ethereal', 'earthly', 'corporeal', 'intangible'], ['But', 'symbolism', 'Minotaur', 'actually', 'inverted'], ['What', 'Felix', 'monster', 'Oliver', 'hero', 'pulling', 'Theseus', 'slaying', 'Minotaur', 'seizing', 'throne', 'Saltburn'], ['The', 'film', 'final', 'scene', 'one', 'hand', 'nice', 'demonstration', 'length', 'millennial', 'go', 'order', 'real', 'estate', 'speaks', 'Oliver', 'hero'], ['His', 'dance', 'Murder', 'Dancefloor', 'feature', 'many', 'pose', 'reminiscent', 'statue', 'Greek', 'god', 'also', 'form', 'pose', 'entirely', 'nude'], ['Perhaps', 'Oliver', 'quasi-heroic', 'turn', 'happens', 'murder', 'Felix', 'perhaps', 'take', 'place', 'cemetery', 'scene'], ['In', 'disturbing', 'moment', 'film', 'Oliver', 'strip', 'penetrates', 'soil', 'atop', 'Felix', 'fresh', 'grave'], ['Legally', 'speaking', 'cemetery', 'scene', 'would', 'likely', 'categorized', 'form', 'necrophilia'], ['Morally', 'corrupted', 'scene', 'Saltburn', 'even', 'Ancient', 'Greeks', 'shirked', 'idea', 'disrespecting', 'dead'], ['What', 'Greeks', 'sanction', 'however', 'notion', 'link', 'death', 'spirit', 'possession', 'ritual'], ['If', 'interpret', 'Oliver', 'indeed', 'partaking', 'symbolic', 'rebirth', 'kind', 'ritual', 'cemetery', 'gain', 'clearer', 'picture', 'diseased', 'mind'], ['Katherine', 'Boris', 'Dernbach', 'note', 'Greek', 'cult', 'ritual', 'possession', 'blur', 'line', 'living', 'dead', 'self', 'corporeal', 'body', 'ethereal', 'spirit'], ['These', 'line', 'precisely', 'one', 'Oliver', 'seek', 'blur', 'remove', 'entirely'], ['His', 'action', 'wake', 'Felix', 'death', 'prove', 'desired', 'endpoint'], ['If', 'difficult', 'accept', 'Felix', 'anything', 'beautiful', 'kind', 'enigmatic', 'must', 'ask', 'even', 'know', 'Felix'], ['He', 'ever', 'shown', 'audience', 'Oliver', 'eye', 'rose-tinted', 'view', 'say', 'least'], ['The', 'Minotaur', 'demanded', 'human', 'sacrifice', 'Felix', 'history', 'bringing', 'home', 'pleb', 'friend', 'easily', 'replaceable', 'fulfill', 'desire', 'playing', 'saviour', 'adored'], ['They', 'turn', 'sacrifice', 'Oliver'], ['Picasso', 'interpretation', 'Minotaur', 'also', 'lends', 'support', 'analysis'], ['More', 'artist', 'time', 'Picasso', 'unique', 'fascination', 'Minotaur', 'made', 'sense', 'myth', 'profoundly', 'personal', 'term'], ['His', 'depiction', 'minotaur', 'bear', 'little', 'resemblance', 'Greek', 'mythology'], ['Instead', 'monstrous', 'hybrid', 'found', 'sunny', 'Mediterranean', 'coastline', 'frequented', 'wealthy'], ['Picasso', 'describes', 'That', 'minotaur', 'live', 'along', 'coast'], ['They', 'rich', 'seigneur', 'island'], ['They', 'know', 'monster', 'live', 'like', 'dandy', 'dilettante', 'everywhere', 'kind', 'existence', 'reek', 'decadence', 'house', 'filled', 'work', 'art', 'fashionable', 'painter', 'sculptor'], ['They', 'love', 'surrounded', 'pretty', 'woman'], ['They', 'get', 'local', 'fisherman', 'go', 'round', 'girl', 'neighboring', 'island'], ['After', 'heat', 'day', 'passed', 'bring', 'sculptor', 'model', 'party', 'music', 'dancing', 'everybody', 'gorge', 'mussel', 'champagne', 'melancholy', 'fade', 'away', 'euphoria', 'take'], ['From', 'orgy'], ['Picasso', 'minotaur', 'certainly', 'mirror', 'Cattons', 'sharpness', 'Fennell', 'evident'], ['Although', 'center', 'English', 'country', 'house', 'name', 'film', 'Saltburn', 'dismissed', 'perpetuating', 'genteel', 'aristocratic', 'privilege', 'reduced', 'statement', 'class'], ['recent', 'string', 'eat-the-rich', 'movie', 'make', 'easy', 'categorize', 'Saltburn', 'another', 'example', 'horrific', 'karmic', 'violence', 'befalling', 'group', 'terrible', 'wealthy', 'people'], ['That', 'would', 'boring'], ['If', 'anything', 'Saltburn', 'literal', 'eat-the-rich', 'story', 'whereby', 'semen', 'menstrual', 'blood', 'consumed', 'protagonist', 'effort', 'inhabit', 'world', 'inner', 'life', 'host'], ['In', 'instance', 'stately', 'home', 'Cattons', 'identified', 'type', 'Arcadia', 'partially', 'realized', 'equivalent', 'reconstitution', 'system', 'physical', 'metaphysical', 'relationship', 'understood', 'felt', 'sense', 'prior', 'authoritative', 'culture', 'therefore', 'natural'], ['Arcadia', 'first', 'appears', 'work', 'Greek', 'historian', 'Polybius', 'describes', 'stretch', 'Peloponnese', 'inhabitant', 'cultivated', 'art', 'song', 'distraction', 'toil'], ['In', 'Virgil', 'tenth', 'Eclogue', 'frustrated', 'lover', 'Gallus', 'retreat', 'paradise', 'called', 'Arcadia', 'find', 'gratification', 'compensates', 'wild', 'barren', 'emotional', 'landscape', 'unsatisfied', 'love'], ['William', 'Alexander', 'McClung', 'describes', 'Arcadia', 'state', 'wish', 'fulfillment', 'nature', 'psychology', 'cooperate', 'image', 'ideal', 'also', 'like', 'object', 'nostalgia', 'unattainable'], ['The', 'unattainability', 'Saltburn', 'stand', 'found', 'character', 'Farleigh', 'word', 'Oliver', 'This', 'place', 'fucking', 'dream', 'Yet', 'psychologically', 'unattainable', 'also', 'found', 'topographically', 'Saltburn', 'implies', 'limit', 'defined', 'boundary', 'well', 'juxtaposition', 'balancing', 'different', 'element', 'building', 'garden', 'maze', 'lake', 'kind', 'character', 'centered'], ['These', 'feature', 'make', 'Saltburn', 'good', 'film'], ['The', 'possibility', 'multiple', 'interpretation', 'difficult', 'come', 'modern', 'cinema', 'even', 'independent', 'film', 'suffer', 'tedious', 'on-the-nose', 'virtue', 'signaling'], ['Saltburn', 'mean', 'perfect', 'capture', 'one', 'interest'], ['While', 'still', 'think', 'Fennell', 'debut', 'film', 'Promising', 'Young', 'Woman', 'stand', 'league', 'Saltburn', 'visual', 'richness', 'beauty', 'combined', 'Fennell', 'signature', 'nostalgia', '2000s', 'make', 'well', 'worth', 'watch', 'even', 'time', 'nauseates']]\n"
     ]
    }
   ],
   "source": [
    "root_per_sentence = []\n",
    "obj = nltk.WordNetLemmatizer()\n",
    "\n",
    "for i in words_nostop_in_sentence:\n",
    "    temp  = [obj.lemmatize(j) for j in i ] \n",
    "    root_per_sentence.append(temp)\n",
    "print(root_per_sentence)"
   ]
  },
  {
   "cell_type": "markdown",
   "metadata": {},
   "source": [
    "## TF -IDF VECTOR REPRESENTATION"
   ]
  },
  {
   "cell_type": "code",
   "execution_count": 12,
   "metadata": {},
   "outputs": [],
   "source": [
    "unique_words = []\n",
    "for i in root_per_sentence:\n",
    "    for j in i :\n",
    "        if j not in unique_words:\n",
    "            unique_words.append(j)\n",
    "unique_words = sorted(unique_words)"
   ]
  },
  {
   "cell_type": "code",
   "execution_count": 13,
   "metadata": {},
   "outputs": [],
   "source": [
    "tf = []\n",
    "idf = [0 for _ in range(len(unique_words))]\n",
    "for i in range(len(root_per_sentence)):\n",
    "    temp = [0 for _ in range(len(unique_words))]\n",
    "    for j in root_per_sentence[i]:\n",
    "        temp[unique_words.index(j)] = 1 / len(root_per_sentence[i])\n",
    "        idf[unique_words.index(j)] += 1\n",
    "    tf.append(temp) \n",
    "\n",
    "tf = np.array(tf)\n",
    "idf = np.array(idf)\n",
    "idf = np.array(np.log2(len(root_per_sentence))) - np.log2(idf)\n",
    "idf = idf.reshape(1,-1)"
   ]
  },
  {
   "cell_type": "code",
   "execution_count": 14,
   "metadata": {},
   "outputs": [],
   "source": [
    "# TF - IDF Vectorization\n",
    "import pandas as pd\n",
    "Data_TF_IDF = pd.DataFrame(index=[\"sentence-\" + str(i+1) for i in range(len(root_per_sentence) )],columns=sorted(unique_words),data=tf)"
   ]
  },
  {
   "cell_type": "code",
   "execution_count": 15,
   "metadata": {},
   "outputs": [],
   "source": [
    "vector_sentence1 = (np.array(Data_TF_IDF.loc['sentence-1']).reshape(1,-1) * idf)\n",
    "vector_sentence2 = (np.array(Data_TF_IDF.loc['sentence-2']).reshape(1,-1) * idf)"
   ]
  },
  {
   "cell_type": "code",
   "execution_count": 16,
   "metadata": {},
   "outputs": [],
   "source": [
    "def mag(vct):\n",
    "    return np.sum(vct**2)"
   ]
  },
  {
   "cell_type": "code",
   "execution_count": 17,
   "metadata": {},
   "outputs": [],
   "source": [
    "Sim_tf_idf = np.dot(vector_sentence1,vector_sentence2.T) / (mag(vector_sentence1) * mag(vector_sentence2))"
   ]
  },
  {
   "cell_type": "markdown",
   "metadata": {},
   "source": [
    "### Similarity score(sent1,sent2) is 0.010788134718958942"
   ]
  },
  {
   "cell_type": "markdown",
   "metadata": {},
   "source": [
    "## Bag of Words"
   ]
  },
  {
   "cell_type": "code",
   "execution_count": 18,
   "metadata": {},
   "outputs": [],
   "source": [
    "tf_bow = []\n",
    "for i in range(len(root_per_sentence)):\n",
    "    temp = [0 for _ in range(len(unique_words))]\n",
    "    for j in root_per_sentence[i]:\n",
    "        temp[unique_words.index(j)] = 1 \n",
    "    tf_bow.append(temp) \n",
    "tf_bow = np.array(tf_bow)"
   ]
  },
  {
   "cell_type": "code",
   "execution_count": 19,
   "metadata": {},
   "outputs": [],
   "source": [
    "Data_bow = pd.DataFrame(index=[\"sentence-\" + str(i+1) for i in range(len(root_per_sentence) )],columns=sorted(unique_words),data=tf_bow)"
   ]
  },
  {
   "cell_type": "code",
   "execution_count": 20,
   "metadata": {},
   "outputs": [],
   "source": [
    "vector_sentence1_bow = (np.array(Data_bow.loc['sentence-1']).reshape(1,-1) )\n",
    "vector_sentence2_bow = (np.array(Data_bow.loc['sentence-2']).reshape(1,-1) )\n",
    "Sim_bow =  np.dot(vector_sentence1_bow,vector_sentence2_bow.T) / (mag(vector_sentence1_bow) * mag(vector_sentence2_bow))"
   ]
  },
  {
   "cell_type": "markdown",
   "metadata": {},
   "source": [
    "### Similarity score(sent1,sent2)  0.005208333333333333"
   ]
  },
  {
   "cell_type": "markdown",
   "metadata": {},
   "source": [
    "## WORD2VEC(CBOW)"
   ]
  },
  {
   "cell_type": "code",
   "execution_count": 43,
   "metadata": {},
   "outputs": [],
   "source": [
    "from gensim.models import Word2Vec\n",
    "\n",
    "model = Word2Vec(root_per_sentence,min_count=1,vector_size=150,window=5,workers=5,epochs=100,sg=1)"
   ]
  },
  {
   "cell_type": "code",
   "execution_count": 48,
   "metadata": {},
   "outputs": [],
   "source": [
    "Vector_sentence = [model.wv[root_per_sentence[i]].sum(axis=0).reshape(1,150) for i in range(len(root_per_sentence))]"
   ]
  },
  {
   "cell_type": "code",
   "execution_count": 49,
   "metadata": {},
   "outputs": [],
   "source": [
    "Sim_word2vec = np.dot(Vector_sentence[0],Vector_sentence[1].T) / ((mag(Vector_sentence[0])) * mag(Vector_sentence[1]))"
   ]
  },
  {
   "cell_type": "markdown",
   "metadata": {},
   "source": [
    "### Similarity score(sent1,sent2) is 0.0013258324"
   ]
  },
  {
   "cell_type": "markdown",
   "metadata": {},
   "source": [
    "## END"
   ]
  }
 ],
 "metadata": {
  "kernelspec": {
   "display_name": "Python 3",
   "language": "python",
   "name": "python3"
  },
  "language_info": {
   "codemirror_mode": {
    "name": "ipython",
    "version": 3
   },
   "file_extension": ".py",
   "mimetype": "text/x-python",
   "name": "python",
   "nbconvert_exporter": "python",
   "pygments_lexer": "ipython3",
   "version": "3.11.6"
  }
 },
 "nbformat": 4,
 "nbformat_minor": 2
}
